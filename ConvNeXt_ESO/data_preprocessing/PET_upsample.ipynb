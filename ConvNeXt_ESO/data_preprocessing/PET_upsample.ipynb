{
 "cells": [
  {
   "cell_type": "code",
   "execution_count": 4,
   "metadata": {},
   "outputs": [],
   "source": [
    "import slicerutil as su\n",
    "import slicer\n",
    "import os \n",
    "import numpy as np\n",
    "import pandas as pd\n",
    "from tqdm import tqdm\n",
    "from datetime import datetime\n",
    "from slicerutil import PresetColormaps, PetColormaps"
   ]
  },
  {
   "cell_type": "code",
   "execution_count": 5,
   "metadata": {},
   "outputs": [],
   "source": [
    "data_path = r\"C:\\Users\\milantom\\OneDrive - LHSC & St. Joseph's\\Documents\\Eso_deep_learning\\ESO_DL_DS\"\n",
    "clinical_csv = r\"C:\\Users\\milantom\\OneDrive - LHSC & St. Joseph's\\Documents\\Eso_deep_learning\\csv_files\\Clinical_Data_Eso.csv\"\n",
    "\n",
    "new_npy_save_path = r\"C:\\Users\\milantom\\OneDrive - LHSC & St. Joseph's\\Documents\\Eso_deep_learning\\ESO_DL_DS_resampled\""
   ]
  },
  {
   "cell_type": "code",
   "execution_count": 6,
   "metadata": {},
   "outputs": [],
   "source": [
    "patient_image_paths_dict = {}\n",
    "\n",
    "for year_folder in os.listdir(data_path):\n",
    "    year_path = os.path.join(data_path, year_folder)\n",
    "    for modality_folder in os.listdir(year_path):\n",
    "        modality_path = os.path.join(year_path, modality_folder)\n",
    "\n",
    "        patient_id = f\"LRCP_{modality_folder.split('.')[1].split('_')[0]}\"\n",
    "        if patient_id not in patient_image_paths_dict.keys():\n",
    "            patient_image_paths_dict[patient_id] = {}\n",
    "\n",
    "        if '_CT_' in modality_folder:\n",
    "            patient_image_paths_dict[patient_id]['CT'] = modality_path\n",
    "        elif '_PT_' in modality_folder:\n",
    "            patient_image_paths_dict[patient_id]['PET'] = modality_path \n",
    "        else:\n",
    "            print(f\"Unknown modality: {modality_folder}\")\n",
    "       "
   ]
  },
  {
   "cell_type": "code",
   "execution_count": 7,
   "metadata": {},
   "outputs": [
    {
     "name": "stderr",
     "output_type": "stream",
     "text": [
      "  0%|          | 0/164 [00:00<?, ?it/s]"
     ]
    },
    {
     "name": "stdout",
     "output_type": "stream",
     "text": [
      "Processing patient: LRCP_ESO165\n"
     ]
    },
    {
     "name": "stderr",
     "output_type": "stream",
     "text": [
      "  1%|          | 1/164 [00:00<00:17,  9.20it/s]"
     ]
    },
    {
     "name": "stdout",
     "output_type": "stream",
     "text": [
      "Processing patient: LRCP_ESO162\n"
     ]
    },
    {
     "name": "stderr",
     "output_type": "stream",
     "text": [
      "  1%|1         | 2/164 [00:00<00:17,  9.30it/s]"
     ]
    },
    {
     "name": "stdout",
     "output_type": "stream",
     "text": [
      "Processing patient: LRCP_ESO166\n",
      "Processing patient: LRCP_ESO154\n"
     ]
    },
    {
     "name": "stderr",
     "output_type": "stream",
     "text": [
      "  2%|2         | 4/164 [00:00<00:15, 10.11it/s]"
     ]
    },
    {
     "name": "stdout",
     "output_type": "stream",
     "text": [
      "Processing patient: LRCP_ESO163\n",
      "Processing patient: LRCP_ESO155\n"
     ]
    },
    {
     "name": "stderr",
     "output_type": "stream",
     "text": [
      "  4%|3         | 6/164 [00:00<00:14, 10.84it/s]"
     ]
    },
    {
     "name": "stdout",
     "output_type": "stream",
     "text": [
      "Processing patient: LRCP_ESO160\n",
      "Processing patient: LRCP_ESO161\n"
     ]
    },
    {
     "name": "stderr",
     "output_type": "stream",
     "text": [
      "  5%|4         | 8/164 [00:00<00:15, 10.03it/s]"
     ]
    },
    {
     "name": "stdout",
     "output_type": "stream",
     "text": [
      "Processing patient: LRCP_ESO159\n",
      "Processing patient: LRCP_ESO153\n"
     ]
    },
    {
     "name": "stderr",
     "output_type": "stream",
     "text": [
      "  6%|6         | 10/164 [00:00<00:14, 10.74it/s]"
     ]
    },
    {
     "name": "stdout",
     "output_type": "stream",
     "text": [
      "Processing patient: LRCP_ESO156\n",
      "Processing patient: LRCP_ESO157\n"
     ]
    },
    {
     "name": "stderr",
     "output_type": "stream",
     "text": [
      "  7%|7         | 12/164 [00:01<00:15,  9.93it/s]"
     ]
    },
    {
     "name": "stdout",
     "output_type": "stream",
     "text": [
      "Processing patient: LRCP_ESO150\n",
      "Processing patient: LRCP_ESO152\n"
     ]
    },
    {
     "name": "stderr",
     "output_type": "stream",
     "text": [
      "  9%|8         | 14/164 [00:01<00:15,  9.98it/s]"
     ]
    },
    {
     "name": "stdout",
     "output_type": "stream",
     "text": [
      "Processing patient: LRCP_ESO151\n",
      "Processing patient: LRCP_ESO148\n"
     ]
    },
    {
     "name": "stderr",
     "output_type": "stream",
     "text": [
      " 10%|9         | 16/164 [00:01<00:14,  9.91it/s]"
     ]
    },
    {
     "name": "stdout",
     "output_type": "stream",
     "text": [
      "Processing patient: LRCP_ESO149\n",
      "Processing patient: LRCP_ESO147\n"
     ]
    },
    {
     "name": "stderr",
     "output_type": "stream",
     "text": [
      " 11%|#         | 18/164 [00:01<00:14, 10.30it/s]"
     ]
    },
    {
     "name": "stdout",
     "output_type": "stream",
     "text": [
      "Processing patient: LRCP_ESO146\n",
      "Processing patient: LRCP_ESO141\n"
     ]
    },
    {
     "name": "stderr",
     "output_type": "stream",
     "text": [
      " 12%|#2        | 20/164 [00:01<00:13, 10.63it/s]"
     ]
    },
    {
     "name": "stdout",
     "output_type": "stream",
     "text": [
      "Processing patient: LRCP_ESO144\n",
      "Processing patient: LRCP_ESO145\n"
     ]
    },
    {
     "name": "stderr",
     "output_type": "stream",
     "text": [
      " 13%|#3        | 22/164 [00:02<00:13, 10.33it/s]"
     ]
    },
    {
     "name": "stdout",
     "output_type": "stream",
     "text": [
      "Processing patient: LRCP_ESO142\n",
      "Processing patient: LRCP_ESO167\n"
     ]
    },
    {
     "name": "stderr",
     "output_type": "stream",
     "text": [
      " 15%|#4        | 24/164 [00:02<00:13, 10.68it/s]"
     ]
    },
    {
     "name": "stdout",
     "output_type": "stream",
     "text": [
      "Processing patient: LRCP_ESO138\n",
      "Processing patient: LRCP_ESO143\n"
     ]
    },
    {
     "name": "stderr",
     "output_type": "stream",
     "text": [
      " 16%|#5        | 26/164 [00:02<00:12, 10.96it/s]"
     ]
    },
    {
     "name": "stdout",
     "output_type": "stream",
     "text": [
      "Processing patient: LRCP_ESO140\n",
      "Processing patient: LRCP_ESO139\n"
     ]
    },
    {
     "name": "stderr",
     "output_type": "stream",
     "text": [
      " 17%|#7        | 28/164 [00:02<00:12, 10.85it/s]"
     ]
    },
    {
     "name": "stdout",
     "output_type": "stream",
     "text": [
      "Processing patient: LRCP_ESO135\n",
      "Processing patient: LRCP_ESO136\n"
     ]
    },
    {
     "name": "stderr",
     "output_type": "stream",
     "text": [
      " 18%|#8        | 30/164 [00:02<00:12, 10.44it/s]"
     ]
    },
    {
     "name": "stdout",
     "output_type": "stream",
     "text": [
      "Processing patient: LRCP_ESO137\n",
      "Processing patient: LRCP_ESO134\n"
     ]
    },
    {
     "name": "stderr",
     "output_type": "stream",
     "text": [
      " 20%|#9        | 32/164 [00:03<00:12, 10.74it/s]"
     ]
    },
    {
     "name": "stdout",
     "output_type": "stream",
     "text": [
      "Processing patient: LRCP_ESO001\n",
      "Processing patient: LRCP_ESO002\n"
     ]
    },
    {
     "name": "stderr",
     "output_type": "stream",
     "text": [
      " 21%|##        | 34/164 [00:03<00:12, 10.62it/s]"
     ]
    },
    {
     "name": "stdout",
     "output_type": "stream",
     "text": [
      "Processing patient: LRCP_ESO007\n",
      "Processing patient: LRCP_ESO133\n"
     ]
    },
    {
     "name": "stderr",
     "output_type": "stream",
     "text": [
      " 22%|##1       | 36/164 [00:03<00:12, 10.55it/s]"
     ]
    },
    {
     "name": "stdout",
     "output_type": "stream",
     "text": [
      "Processing patient: LRCP_ESO005\n",
      "Processing patient: LRCP_ESO003\n"
     ]
    },
    {
     "name": "stderr",
     "output_type": "stream",
     "text": [
      " 23%|##3       | 38/164 [00:03<00:12, 10.31it/s]"
     ]
    },
    {
     "name": "stdout",
     "output_type": "stream",
     "text": [
      "Processing patient: LRCP_ESO004\n",
      "Processing patient: LRCP_ESO006\n"
     ]
    },
    {
     "name": "stderr",
     "output_type": "stream",
     "text": [
      " 24%|##4       | 40/164 [00:03<00:11, 10.48it/s]"
     ]
    },
    {
     "name": "stdout",
     "output_type": "stream",
     "text": [
      "Processing patient: LRCP_ESO008\n",
      "Processing patient: LRCP_ESO009\n"
     ]
    },
    {
     "name": "stderr",
     "output_type": "stream",
     "text": [
      " 26%|##5       | 42/164 [00:04<00:11, 10.50it/s]"
     ]
    },
    {
     "name": "stdout",
     "output_type": "stream",
     "text": [
      "Processing patient: LRCP_ESO011\n",
      "Processing patient: LRCP_ESO010\n"
     ]
    },
    {
     "name": "stderr",
     "output_type": "stream",
     "text": [
      " 27%|##6       | 44/164 [00:04<00:11, 10.23it/s]"
     ]
    },
    {
     "name": "stdout",
     "output_type": "stream",
     "text": [
      "Processing patient: LRCP_ESO015\n",
      "Processing patient: LRCP_ESO017\n"
     ]
    },
    {
     "name": "stderr",
     "output_type": "stream",
     "text": [
      " 28%|##8       | 46/164 [00:04<00:11, 10.48it/s]"
     ]
    },
    {
     "name": "stdout",
     "output_type": "stream",
     "text": [
      "Processing patient: LRCP_ESO012\n",
      "Processing patient: LRCP_ESO013\n"
     ]
    },
    {
     "name": "stderr",
     "output_type": "stream",
     "text": [
      " 29%|##9       | 48/164 [00:04<00:11, 10.39it/s]"
     ]
    },
    {
     "name": "stdout",
     "output_type": "stream",
     "text": [
      "Processing patient: LRCP_ESO022\n",
      "Processing patient: LRCP_ESO014\n"
     ]
    },
    {
     "name": "stderr",
     "output_type": "stream",
     "text": [
      " 30%|###       | 50/164 [00:04<00:10, 10.66it/s]"
     ]
    },
    {
     "name": "stdout",
     "output_type": "stream",
     "text": [
      "Processing patient: LRCP_ESO016\n",
      "Processing patient: LRCP_ESO018\n"
     ]
    },
    {
     "name": "stderr",
     "output_type": "stream",
     "text": [
      " 32%|###1      | 52/164 [00:04<00:10, 10.30it/s]"
     ]
    },
    {
     "name": "stdout",
     "output_type": "stream",
     "text": [
      "Processing patient: LRCP_ESO019\n",
      "Processing patient: LRCP_ESO020\n"
     ]
    },
    {
     "name": "stderr",
     "output_type": "stream",
     "text": [
      " 33%|###2      | 54/164 [00:05<00:10, 10.28it/s]"
     ]
    },
    {
     "name": "stdout",
     "output_type": "stream",
     "text": [
      "Processing patient: LRCP_ESO023\n",
      "Processing patient: LRCP_ESO021\n"
     ]
    },
    {
     "name": "stderr",
     "output_type": "stream",
     "text": [
      " 34%|###4      | 56/164 [00:05<00:10, 10.23it/s]"
     ]
    },
    {
     "name": "stdout",
     "output_type": "stream",
     "text": [
      "Processing patient: LRCP_ESO024\n",
      "Processing patient: LRCP_ESO025\n"
     ]
    },
    {
     "name": "stderr",
     "output_type": "stream",
     "text": [
      " 35%|###5      | 58/164 [00:05<00:10, 10.25it/s]"
     ]
    },
    {
     "name": "stdout",
     "output_type": "stream",
     "text": [
      "Processing patient: LRCP_ESO026\n",
      "Processing patient: LRCP_ESO027\n"
     ]
    },
    {
     "name": "stderr",
     "output_type": "stream",
     "text": [
      " 37%|###6      | 60/164 [00:05<00:10,  9.97it/s]"
     ]
    },
    {
     "name": "stdout",
     "output_type": "stream",
     "text": [
      "Processing patient: LRCP_ESO028\n"
     ]
    },
    {
     "name": "stderr",
     "output_type": "stream",
     "text": [
      " 37%|###7      | 61/164 [00:05<00:10,  9.91it/s]"
     ]
    },
    {
     "name": "stdout",
     "output_type": "stream",
     "text": [
      "Processing patient: LRCP_ESO029\n",
      "Processing patient: LRCP_ESO030\n"
     ]
    },
    {
     "name": "stderr",
     "output_type": "stream",
     "text": [
      " 38%|###8      | 63/164 [00:06<00:10,  9.98it/s]"
     ]
    },
    {
     "name": "stdout",
     "output_type": "stream",
     "text": [
      "Processing patient: LRCP_ESO031\n"
     ]
    },
    {
     "name": "stderr",
     "output_type": "stream",
     "text": [
      " 39%|###9      | 64/164 [00:06<00:10,  9.93it/s]"
     ]
    },
    {
     "name": "stdout",
     "output_type": "stream",
     "text": [
      "Processing patient: LRCP_ESO032\n",
      "Processing patient: LRCP_ESO033\n"
     ]
    },
    {
     "name": "stderr",
     "output_type": "stream",
     "text": [
      " 40%|####      | 66/164 [00:06<00:10,  9.34it/s]"
     ]
    },
    {
     "name": "stdout",
     "output_type": "stream",
     "text": [
      "Processing patient: LRCP_ESO034\n"
     ]
    },
    {
     "name": "stderr",
     "output_type": "stream",
     "text": [
      " 41%|####      | 67/164 [00:06<00:10,  9.43it/s]"
     ]
    },
    {
     "name": "stdout",
     "output_type": "stream",
     "text": [
      "Processing patient: LRCP_ESO035\n"
     ]
    },
    {
     "name": "stderr",
     "output_type": "stream",
     "text": [
      " 41%|####1     | 68/164 [00:06<00:10,  9.54it/s]"
     ]
    },
    {
     "name": "stdout",
     "output_type": "stream",
     "text": [
      "Processing patient: LRCP_ESO132\n"
     ]
    },
    {
     "name": "stderr",
     "output_type": "stream",
     "text": [
      " 42%|####2     | 69/164 [00:06<00:10,  9.39it/s]"
     ]
    },
    {
     "name": "stdout",
     "output_type": "stream",
     "text": [
      "Processing patient: LRCP_ESO036\n",
      "Processing patient: LRCP_ESO037\n"
     ]
    },
    {
     "name": "stderr",
     "output_type": "stream",
     "text": [
      " 43%|####3     | 71/164 [00:06<00:09,  9.85it/s]"
     ]
    },
    {
     "name": "stdout",
     "output_type": "stream",
     "text": [
      "Processing patient: LRCP_ESO042\n",
      "Processing patient: LRCP_ESO039\n"
     ]
    },
    {
     "name": "stderr",
     "output_type": "stream",
     "text": [
      " 45%|####4     | 73/164 [00:07<00:09,  9.40it/s]"
     ]
    },
    {
     "name": "stdout",
     "output_type": "stream",
     "text": [
      "Processing patient: LRCP_ESO040\n",
      "Processing patient: LRCP_ESO041\n"
     ]
    },
    {
     "name": "stderr",
     "output_type": "stream",
     "text": [
      " 46%|####5     | 75/164 [00:07<00:09,  9.80it/s]"
     ]
    },
    {
     "name": "stdout",
     "output_type": "stream",
     "text": [
      "Processing patient: LRCP_ESO043\n",
      "Processing patient: LRCP_ESO044\n"
     ]
    },
    {
     "name": "stderr",
     "output_type": "stream",
     "text": [
      " 47%|####6     | 77/164 [00:07<00:08, 10.04it/s]"
     ]
    },
    {
     "name": "stdout",
     "output_type": "stream",
     "text": [
      "Processing patient: LRCP_ESO045\n",
      "Processing patient: LRCP_ESO046\n"
     ]
    },
    {
     "name": "stderr",
     "output_type": "stream",
     "text": [
      " 48%|####8     | 79/164 [00:07<00:08,  9.94it/s]"
     ]
    },
    {
     "name": "stdout",
     "output_type": "stream",
     "text": [
      "Processing patient: LRCP_ESO047\n"
     ]
    },
    {
     "name": "stderr",
     "output_type": "stream",
     "text": [
      " 49%|####8     | 80/164 [00:07<00:08,  9.62it/s]"
     ]
    },
    {
     "name": "stdout",
     "output_type": "stream",
     "text": [
      "Processing patient: LRCP_ESO049\n",
      "Processing patient: LRCP_ESO050\n"
     ]
    },
    {
     "name": "stderr",
     "output_type": "stream",
     "text": [
      " 50%|#####     | 82/164 [00:08<00:08,  9.99it/s]"
     ]
    },
    {
     "name": "stdout",
     "output_type": "stream",
     "text": [
      "Processing patient: LRCP_ESO048\n",
      "Processing patient: LRCP_ESO051\n"
     ]
    },
    {
     "name": "stderr",
     "output_type": "stream",
     "text": [
      " 51%|#####1    | 84/164 [00:08<00:07, 10.05it/s]"
     ]
    },
    {
     "name": "stdout",
     "output_type": "stream",
     "text": [
      "Processing patient: LRCP_ESO052\n"
     ]
    },
    {
     "name": "stderr",
     "output_type": "stream",
     "text": [
      " 52%|#####1    | 85/164 [00:08<00:07,  9.90it/s]"
     ]
    },
    {
     "name": "stdout",
     "output_type": "stream",
     "text": [
      "Processing patient: LRCP_ESO053\n"
     ]
    },
    {
     "name": "stderr",
     "output_type": "stream",
     "text": [
      " 52%|#####2    | 86/164 [00:08<00:08,  9.15it/s]"
     ]
    },
    {
     "name": "stdout",
     "output_type": "stream",
     "text": [
      "Processing patient: LRCP_ESO054\n",
      "Processing patient: LRCP_ESO057\n"
     ]
    },
    {
     "name": "stderr",
     "output_type": "stream",
     "text": [
      " 54%|#####3    | 88/164 [00:08<00:07,  9.72it/s]"
     ]
    },
    {
     "name": "stdout",
     "output_type": "stream",
     "text": [
      "Processing patient: LRCP_ESO058\n",
      "Processing patient: LRCP_ESO061\n"
     ]
    },
    {
     "name": "stderr",
     "output_type": "stream",
     "text": [
      " 55%|#####4    | 90/164 [00:08<00:07,  9.79it/s]"
     ]
    },
    {
     "name": "stdout",
     "output_type": "stream",
     "text": [
      "Processing patient: LRCP_ESO055\n"
     ]
    },
    {
     "name": "stderr",
     "output_type": "stream",
     "text": [
      " 55%|#####5    | 91/164 [00:08<00:07,  9.76it/s]"
     ]
    },
    {
     "name": "stdout",
     "output_type": "stream",
     "text": [
      "Processing patient: LRCP_ESO056\n"
     ]
    },
    {
     "name": "stderr",
     "output_type": "stream",
     "text": [
      " 56%|#####6    | 92/164 [00:09<00:07,  9.78it/s]"
     ]
    },
    {
     "name": "stdout",
     "output_type": "stream",
     "text": [
      "Processing patient: LRCP_ESO059\n"
     ]
    },
    {
     "name": "stderr",
     "output_type": "stream",
     "text": [
      " 57%|#####6    | 93/164 [00:09<00:07,  8.97it/s]"
     ]
    },
    {
     "name": "stdout",
     "output_type": "stream",
     "text": [
      "Processing patient: LRCP_ESO060\n",
      "Processing patient: LRCP_ESO063\n"
     ]
    },
    {
     "name": "stderr",
     "output_type": "stream",
     "text": [
      " 58%|#####7    | 95/164 [00:09<00:07,  9.50it/s]"
     ]
    },
    {
     "name": "stdout",
     "output_type": "stream",
     "text": [
      "Processing patient: LRCP_ESO062\n"
     ]
    },
    {
     "name": "stderr",
     "output_type": "stream",
     "text": [
      " 59%|#####8    | 96/164 [00:09<00:07,  9.57it/s]"
     ]
    },
    {
     "name": "stdout",
     "output_type": "stream",
     "text": [
      "Processing patient: LRCP_ESO065\n"
     ]
    },
    {
     "name": "stderr",
     "output_type": "stream",
     "text": [
      " 59%|#####9    | 97/164 [00:09<00:07,  9.57it/s]"
     ]
    },
    {
     "name": "stdout",
     "output_type": "stream",
     "text": [
      "Processing patient: LRCP_ESO069\n"
     ]
    },
    {
     "name": "stderr",
     "output_type": "stream",
     "text": [
      " 60%|#####9    | 98/164 [00:09<00:07,  9.11it/s]"
     ]
    },
    {
     "name": "stdout",
     "output_type": "stream",
     "text": [
      "Processing patient: LRCP_ESO064\n"
     ]
    },
    {
     "name": "stderr",
     "output_type": "stream",
     "text": [
      " 60%|######    | 99/164 [00:09<00:07,  8.26it/s]"
     ]
    },
    {
     "name": "stdout",
     "output_type": "stream",
     "text": [
      "Processing patient: LRCP_ESO068\n"
     ]
    },
    {
     "name": "stderr",
     "output_type": "stream",
     "text": [
      " 61%|######    | 100/164 [00:10<00:07,  8.54it/s]"
     ]
    },
    {
     "name": "stdout",
     "output_type": "stream",
     "text": [
      "Processing patient: LRCP_ESO067\n"
     ]
    },
    {
     "name": "stderr",
     "output_type": "stream",
     "text": [
      " 62%|######1   | 101/164 [00:10<00:07,  8.83it/s]"
     ]
    },
    {
     "name": "stdout",
     "output_type": "stream",
     "text": [
      "Processing patient: LRCP_ESO066\n"
     ]
    },
    {
     "name": "stderr",
     "output_type": "stream",
     "text": [
      " 62%|######2   | 102/164 [00:10<00:06,  9.00it/s]"
     ]
    },
    {
     "name": "stdout",
     "output_type": "stream",
     "text": [
      "Processing patient: LRCP_ESO071\n",
      "Processing patient: LRCP_ESO073\n"
     ]
    },
    {
     "name": "stderr",
     "output_type": "stream",
     "text": [
      " 63%|######3   | 104/164 [00:10<00:06,  9.44it/s]"
     ]
    },
    {
     "name": "stdout",
     "output_type": "stream",
     "text": [
      "Processing patient: LRCP_ESO070\n"
     ]
    },
    {
     "name": "stderr",
     "output_type": "stream",
     "text": [
      " 64%|######4   | 105/164 [00:10<00:06,  8.63it/s]"
     ]
    },
    {
     "name": "stdout",
     "output_type": "stream",
     "text": [
      "Processing patient: LRCP_ESO072\n"
     ]
    },
    {
     "name": "stderr",
     "output_type": "stream",
     "text": [
      " 65%|######4   | 106/164 [00:10<00:06,  8.85it/s]"
     ]
    },
    {
     "name": "stdout",
     "output_type": "stream",
     "text": [
      "Processing patient: LRCP_ESO074\n"
     ]
    },
    {
     "name": "stderr",
     "output_type": "stream",
     "text": [
      " 65%|######5   | 107/164 [00:10<00:06,  8.92it/s]"
     ]
    },
    {
     "name": "stdout",
     "output_type": "stream",
     "text": [
      "Processing patient: LRCP_ESO075\n"
     ]
    },
    {
     "name": "stderr",
     "output_type": "stream",
     "text": [
      " 66%|######5   | 108/164 [00:10<00:06,  9.11it/s]"
     ]
    },
    {
     "name": "stdout",
     "output_type": "stream",
     "text": [
      "Processing patient: LRCP_ESO079\n"
     ]
    },
    {
     "name": "stderr",
     "output_type": "stream",
     "text": [
      " 66%|######6   | 109/164 [00:10<00:06,  9.16it/s]"
     ]
    },
    {
     "name": "stdout",
     "output_type": "stream",
     "text": [
      "Processing patient: LRCP_ESO076\n"
     ]
    },
    {
     "name": "stderr",
     "output_type": "stream",
     "text": [
      " 67%|######7   | 110/164 [00:11<00:05,  9.37it/s]"
     ]
    },
    {
     "name": "stdout",
     "output_type": "stream",
     "text": [
      "Processing patient: LRCP_ESO081\n"
     ]
    },
    {
     "name": "stderr",
     "output_type": "stream",
     "text": [
      " 68%|######7   | 111/164 [00:11<00:05,  9.45it/s]"
     ]
    },
    {
     "name": "stdout",
     "output_type": "stream",
     "text": [
      "Processing patient: LRCP_ESO077\n"
     ]
    },
    {
     "name": "stderr",
     "output_type": "stream",
     "text": [
      " 68%|######8   | 112/164 [00:11<00:05,  9.12it/s]"
     ]
    },
    {
     "name": "stdout",
     "output_type": "stream",
     "text": [
      "Processing patient: LRCP_ESO080\n"
     ]
    },
    {
     "name": "stderr",
     "output_type": "stream",
     "text": [
      " 69%|######8   | 113/164 [00:11<00:05,  9.27it/s]"
     ]
    },
    {
     "name": "stdout",
     "output_type": "stream",
     "text": [
      "Processing patient: LRCP_ESO078\n"
     ]
    },
    {
     "name": "stderr",
     "output_type": "stream",
     "text": [
      " 70%|######9   | 114/164 [00:11<00:05,  9.22it/s]"
     ]
    },
    {
     "name": "stdout",
     "output_type": "stream",
     "text": [
      "Processing patient: LRCP_ESO082\n"
     ]
    },
    {
     "name": "stderr",
     "output_type": "stream",
     "text": [
      " 70%|#######   | 115/164 [00:11<00:05,  9.34it/s]"
     ]
    },
    {
     "name": "stdout",
     "output_type": "stream",
     "text": [
      "Processing patient: LRCP_ESO083\n"
     ]
    },
    {
     "name": "stderr",
     "output_type": "stream",
     "text": [
      " 71%|#######   | 116/164 [00:11<00:05,  9.33it/s]"
     ]
    },
    {
     "name": "stdout",
     "output_type": "stream",
     "text": [
      "Processing patient: LRCP_ESO084\n",
      "Found Referenced PET series\n",
      "Found Referenced PET series\n",
      "Found Referenced PET series\n",
      "Found Referenced PET series\n",
      "Found Radiopharmaceutical Code C-B1031\n",
      "Found Radiopharmaceutical Code C-B1031\n",
      "Found Radiopharmaceutical Code C-B1031\n",
      "Found Radiopharmaceutical Code C-B1031\n",
      "Found Referenced PET series\n",
      "Found Referenced PET series\n",
      "Found Referenced PET series\n",
      "Found Referenced PET series\n",
      "Found Radiopharmaceutical Code C-B1031\n"
     ]
    },
    {
     "name": "stderr",
     "output_type": "stream",
     "text": [
      " 71%|#######1  | 117/164 [02:25<31:21, 40.03s/it]"
     ]
    },
    {
     "name": "stdout",
     "output_type": "stream",
     "text": [
      "Processing patient: LRCP_ESO087\n",
      "Found Referenced PET series\n",
      "Found Referenced PET series\n",
      "Found Referenced PET series\n",
      "Found Referenced PET series\n",
      "Found Radiopharmaceutical Code C-B1031\n",
      "Found Radiopharmaceutical Code C-B1031\n",
      "Found Radiopharmaceutical Code C-B1031\n",
      "Found Radiopharmaceutical Code C-B1031\n",
      "Found Referenced PET series\n",
      "Found Referenced PET series\n",
      "Found Referenced PET series\n",
      "Found Referenced PET series\n",
      "Found Radiopharmaceutical Code C-B1031\n"
     ]
    },
    {
     "name": "stderr",
     "output_type": "stream",
     "text": [
      " 72%|#######1  | 118/164 [06:40<1:20:02, 104.40s/it]"
     ]
    },
    {
     "name": "stdout",
     "output_type": "stream",
     "text": [
      "Processing patient: LRCP_ESO085\n",
      "Found Referenced PET series\n",
      "Found Referenced PET series\n",
      "Found Referenced PET series\n",
      "Found Referenced PET series\n",
      "Found Radiopharmaceutical Code C-B1031\n",
      "Found Radiopharmaceutical Code C-B1031\n",
      "Found Radiopharmaceutical Code C-B1031\n",
      "Found Radiopharmaceutical Code C-B1031\n",
      "Found Referenced PET series\n",
      "Found Referenced PET series\n",
      "Found Referenced PET series\n",
      "Found Referenced PET series\n",
      "Found Radiopharmaceutical Code C-B1031\n"
     ]
    },
    {
     "name": "stderr",
     "output_type": "stream",
     "text": [
      " 73%|#######2  | 119/164 [10:59<1:53:01, 150.70s/it]"
     ]
    },
    {
     "name": "stdout",
     "output_type": "stream",
     "text": [
      "Processing patient: LRCP_ESO086\n",
      "Found Referenced PET series\n",
      "Found Referenced PET series\n",
      "Found Referenced PET series\n",
      "Found Referenced PET series\n",
      "Found Radiopharmaceutical Code C-B1031\n",
      "Found Radiopharmaceutical Code C-B1031\n",
      "Found Radiopharmaceutical Code C-B1031\n",
      "Found Radiopharmaceutical Code C-B1031\n",
      "Found Referenced PET series\n",
      "Found Referenced PET series\n",
      "Found Referenced PET series\n",
      "Found Referenced PET series\n",
      "Found Radiopharmaceutical Code C-B1031\n"
     ]
    },
    {
     "name": "stderr",
     "output_type": "stream",
     "text": [
      " 73%|#######3  | 120/164 [15:06<2:11:38, 179.51s/it]"
     ]
    },
    {
     "name": "stdout",
     "output_type": "stream",
     "text": [
      "Processing patient: LRCP_ESO089\n",
      "Found Referenced PET series\n",
      "Found Referenced PET series\n",
      "Found Referenced PET series\n",
      "Found Referenced PET series\n",
      "Found Radiopharmaceutical Code C-B1031\n",
      "Found Radiopharmaceutical Code C-B1031\n",
      "Found Radiopharmaceutical Code C-B1031\n",
      "Found Radiopharmaceutical Code C-B1031\n",
      "Found Referenced PET series\n",
      "Found Referenced PET series\n",
      "Found Referenced PET series\n",
      "Found Referenced PET series\n",
      "Found Radiopharmaceutical Code C-B1031\n"
     ]
    },
    {
     "name": "stderr",
     "output_type": "stream",
     "text": [
      " 74%|#######3  | 121/164 [19:15<2:23:41, 200.49s/it]"
     ]
    },
    {
     "name": "stdout",
     "output_type": "stream",
     "text": [
      "Processing patient: LRCP_ESO088\n",
      "Found Referenced PET series\n",
      "Found Referenced PET series\n",
      "Found Referenced PET series\n",
      "Found Referenced PET series\n",
      "Found Radiopharmaceutical Code C-B1031\n",
      "Found Radiopharmaceutical Code C-B1031\n",
      "Found Radiopharmaceutical Code C-B1031\n",
      "Found Radiopharmaceutical Code C-B1031\n",
      "Found Referenced PET series\n",
      "Found Referenced PET series\n",
      "Found Referenced PET series\n",
      "Found Referenced PET series\n",
      "Found Radiopharmaceutical Code C-B1031\n"
     ]
    },
    {
     "name": "stderr",
     "output_type": "stream",
     "text": [
      " 74%|#######4  | 122/164 [23:20<2:29:36, 213.72s/it]"
     ]
    },
    {
     "name": "stdout",
     "output_type": "stream",
     "text": [
      "Processing patient: LRCP_ESO090\n",
      "Found Referenced PET series\n",
      "Found Referenced PET series\n",
      "Found Referenced PET series\n",
      "Found Referenced PET series\n",
      "Found Radiopharmaceutical Code C-B1031\n",
      "Found Radiopharmaceutical Code C-B1031\n",
      "Found Radiopharmaceutical Code C-B1031\n",
      "Found Radiopharmaceutical Code C-B1031\n",
      "Found Referenced PET series\n",
      "Found Referenced PET series\n",
      "Found Referenced PET series\n",
      "Found Referenced PET series\n",
      "Found Radiopharmaceutical Code C-B1031\n"
     ]
    },
    {
     "name": "stderr",
     "output_type": "stream",
     "text": [
      " 75%|#######5  | 123/164 [27:23<2:32:07, 222.63s/it]"
     ]
    },
    {
     "name": "stdout",
     "output_type": "stream",
     "text": [
      "Processing patient: LRCP_ESO091\n",
      "Found Referenced PET series\n",
      "Found Referenced PET series\n",
      "Found Referenced PET series\n",
      "Found Referenced PET series\n",
      "Found Radiopharmaceutical Code C-B1031\n",
      "Found Radiopharmaceutical Code C-B1031\n",
      "Found Radiopharmaceutical Code C-B1031\n",
      "Found Radiopharmaceutical Code C-B1031\n",
      "Found Referenced PET series\n",
      "Found Referenced PET series\n",
      "Found Referenced PET series\n",
      "Found Referenced PET series\n",
      "Found Radiopharmaceutical Code C-B1031\n"
     ]
    },
    {
     "name": "stderr",
     "output_type": "stream",
     "text": [
      " 76%|#######5  | 124/164 [31:58<2:38:47, 238.20s/it]"
     ]
    },
    {
     "name": "stdout",
     "output_type": "stream",
     "text": [
      "Processing patient: LRCP_ESO094\n",
      "Found Referenced PET series\n",
      "Found Referenced PET series\n",
      "Found Referenced PET series\n",
      "Found Referenced PET series\n",
      "Found Radiopharmaceutical Code C-B1031\n",
      "Found Radiopharmaceutical Code C-B1031\n",
      "Found Radiopharmaceutical Code C-B1031\n",
      "Found Radiopharmaceutical Code C-B1031\n",
      "Found Referenced PET series\n",
      "Found Referenced PET series\n",
      "Found Referenced PET series\n",
      "Found Referenced PET series\n",
      "Found Radiopharmaceutical Code C-B1031\n"
     ]
    },
    {
     "name": "stderr",
     "output_type": "stream",
     "text": [
      " 76%|#######6  | 125/164 [36:47<2:44:50, 253.59s/it]"
     ]
    },
    {
     "name": "stdout",
     "output_type": "stream",
     "text": [
      "Processing patient: LRCP_ESO092\n",
      "Found Referenced PET series\n",
      "Found Referenced PET series\n",
      "Found Referenced PET series\n",
      "Found Referenced PET series\n",
      "Found Radiopharmaceutical Code C-B1031\n",
      "Found Radiopharmaceutical Code C-B1031\n",
      "Found Radiopharmaceutical Code C-B1031\n",
      "Found Radiopharmaceutical Code C-B1031\n",
      "Found Referenced PET series\n",
      "Found Referenced PET series\n",
      "Found Referenced PET series\n",
      "Found Referenced PET series\n",
      "Found Radiopharmaceutical Code C-B1031\n"
     ]
    },
    {
     "name": "stderr",
     "output_type": "stream",
     "text": [
      " 77%|#######6  | 126/164 [41:50<2:49:52, 268.23s/it]"
     ]
    },
    {
     "name": "stdout",
     "output_type": "stream",
     "text": [
      "Processing patient: LRCP_ESO093\n",
      "Found Referenced PET series\n",
      "Found Referenced PET series\n",
      "Found Referenced PET series\n",
      "Found Referenced PET series\n",
      "Found Radiopharmaceutical Code C-B1031\n",
      "Found Radiopharmaceutical Code C-B1031\n",
      "Found Radiopharmaceutical Code C-B1031\n",
      "Found Radiopharmaceutical Code C-B1031\n",
      "Found Referenced PET series\n",
      "Found Referenced PET series\n",
      "Found Referenced PET series\n",
      "Found Referenced PET series\n",
      "Found Radiopharmaceutical Code C-B1031\n"
     ]
    },
    {
     "name": "stderr",
     "output_type": "stream",
     "text": [
      " 77%|#######7  | 127/164 [46:21<2:45:59, 269.18s/it]"
     ]
    },
    {
     "name": "stdout",
     "output_type": "stream",
     "text": [
      "Processing patient: LRCP_ESO096\n",
      "Found Referenced PET series\n",
      "Found Referenced PET series\n",
      "Found Referenced PET series\n",
      "Found Referenced PET series\n",
      "Found Radiopharmaceutical Code C-B1031\n",
      "Found Radiopharmaceutical Code C-B1031\n",
      "Found Radiopharmaceutical Code C-B1031\n",
      "Found Radiopharmaceutical Code C-B1031\n",
      "Found Referenced PET series\n",
      "Found Referenced PET series\n",
      "Found Referenced PET series\n",
      "Found Referenced PET series\n",
      "Found Radiopharmaceutical Code C-B1031\n"
     ]
    },
    {
     "name": "stderr",
     "output_type": "stream",
     "text": [
      " 78%|#######8  | 128/164 [50:04<2:33:06, 255.18s/it]"
     ]
    },
    {
     "name": "stdout",
     "output_type": "stream",
     "text": [
      "Processing patient: LRCP_ESO095\n",
      "Found Referenced PET series\n",
      "Found Referenced PET series\n",
      "Found Referenced PET series\n",
      "Found Referenced PET series\n",
      "Found Radiopharmaceutical Code C-B1031\n",
      "Found Radiopharmaceutical Code C-B1031\n",
      "Found Radiopharmaceutical Code C-B1031\n",
      "Found Radiopharmaceutical Code C-B1031\n",
      "Found Referenced PET series\n",
      "Found Referenced PET series\n",
      "Found Referenced PET series\n",
      "Found Referenced PET series\n",
      "Found Radiopharmaceutical Code C-B1031\n"
     ]
    },
    {
     "name": "stderr",
     "output_type": "stream",
     "text": [
      " 79%|#######8  | 129/164 [54:15<2:28:06, 253.90s/it]"
     ]
    },
    {
     "name": "stdout",
     "output_type": "stream",
     "text": [
      "Processing patient: LRCP_ESO097\n",
      "Found Referenced PET series\n",
      "Found Referenced PET series\n",
      "Found Referenced PET series\n",
      "Found Referenced PET series\n",
      "Found Radiopharmaceutical Code C-B1031\n",
      "Found Radiopharmaceutical Code C-B1031\n",
      "Found Radiopharmaceutical Code C-B1031\n",
      "Found Radiopharmaceutical Code C-B1031\n",
      "Found Referenced PET series\n",
      "Found Referenced PET series\n",
      "Found Referenced PET series\n",
      "Found Referenced PET series\n",
      "Found Radiopharmaceutical Code C-B1031\n"
     ]
    },
    {
     "name": "stderr",
     "output_type": "stream",
     "text": [
      " 79%|#######9  | 130/164 [58:32<2:24:32, 255.09s/it]"
     ]
    },
    {
     "name": "stdout",
     "output_type": "stream",
     "text": [
      "Processing patient: LRCP_ESO098\n",
      "Found Referenced PET series\n",
      "Found Referenced PET series\n",
      "Found Referenced PET series\n",
      "Found Referenced PET series\n",
      "Found Radiopharmaceutical Code C-B1031\n",
      "Found Radiopharmaceutical Code C-B1031\n",
      "Found Radiopharmaceutical Code C-B1031\n",
      "Found Radiopharmaceutical Code C-B1031\n",
      "Found Referenced PET series\n",
      "Found Referenced PET series\n",
      "Found Referenced PET series\n",
      "Found Referenced PET series\n",
      "Found Radiopharmaceutical Code C-B1031\n"
     ]
    },
    {
     "name": "stderr",
     "output_type": "stream",
     "text": [
      " 80%|#######9  | 131/164 [1:02:52<2:21:00, 256.37s/it]"
     ]
    },
    {
     "name": "stdout",
     "output_type": "stream",
     "text": [
      "Processing patient: LRCP_ESO099\n",
      "Found Referenced PET series\n",
      "Found Referenced PET series\n",
      "Found Referenced PET series\n",
      "Found Referenced PET series\n",
      "Found Radiopharmaceutical Code C-B1031\n",
      "Found Radiopharmaceutical Code C-B1031\n",
      "Found Radiopharmaceutical Code C-B1031\n",
      "Found Radiopharmaceutical Code C-B1031\n",
      "Found Referenced PET series\n",
      "Found Referenced PET series\n",
      "Found Referenced PET series\n",
      "Found Referenced PET series\n",
      "Found Radiopharmaceutical Code C-B1031\n"
     ]
    },
    {
     "name": "stderr",
     "output_type": "stream",
     "text": [
      " 80%|########  | 132/164 [1:07:15<2:17:47, 258.37s/it]"
     ]
    },
    {
     "name": "stdout",
     "output_type": "stream",
     "text": [
      "Processing patient: LRCP_ESO102\n",
      "Found Referenced PET series\n",
      "Found Referenced PET series\n",
      "Found Referenced PET series\n",
      "Found Referenced PET series\n",
      "Found Radiopharmaceutical Code C-B1031\n",
      "Found Radiopharmaceutical Code C-B1031\n",
      "Found Radiopharmaceutical Code C-B1031\n",
      "Found Radiopharmaceutical Code C-B1031\n",
      "Found Referenced PET series\n",
      "Found Referenced PET series\n",
      "Found Referenced PET series\n",
      "Found Referenced PET series\n",
      "Found Radiopharmaceutical Code C-B1031\n"
     ]
    },
    {
     "name": "stderr",
     "output_type": "stream",
     "text": [
      " 81%|########1 | 133/164 [1:11:43<2:14:57, 261.21s/it]"
     ]
    },
    {
     "name": "stdout",
     "output_type": "stream",
     "text": [
      "Processing patient: LRCP_ESO101\n",
      "Found Referenced PET series\n",
      "Found Referenced PET series\n",
      "Found Referenced PET series\n",
      "Found Referenced PET series\n",
      "Found Radiopharmaceutical Code C-B1031\n",
      "Found Radiopharmaceutical Code C-B1031\n",
      "Found Radiopharmaceutical Code C-B1031\n",
      "Found Radiopharmaceutical Code C-B1031\n",
      "Found Referenced PET series\n",
      "Found Referenced PET series\n",
      "Found Referenced PET series\n",
      "Found Referenced PET series\n",
      "Found Radiopharmaceutical Code C-B1031\n"
     ]
    },
    {
     "name": "stderr",
     "output_type": "stream",
     "text": [
      " 82%|########1 | 134/164 [1:16:46<2:16:59, 274.00s/it]"
     ]
    },
    {
     "name": "stdout",
     "output_type": "stream",
     "text": [
      "Processing patient: LRCP_ESO100\n",
      "Found Referenced PET series\n",
      "Found Referenced PET series\n",
      "Found Referenced PET series\n",
      "Found Referenced PET series\n",
      "Found Radiopharmaceutical Code C-B1031\n",
      "Found Radiopharmaceutical Code C-B1031\n",
      "Found Radiopharmaceutical Code C-B1031\n",
      "Found Radiopharmaceutical Code C-B1031\n",
      "Found Referenced PET series\n",
      "Found Referenced PET series\n",
      "Found Referenced PET series\n",
      "Found Referenced PET series\n",
      "Found Radiopharmaceutical Code C-B1031\n"
     ]
    },
    {
     "name": "stderr",
     "output_type": "stream",
     "text": [
      " 82%|########2 | 135/164 [1:21:12<2:11:13, 271.51s/it]"
     ]
    },
    {
     "name": "stdout",
     "output_type": "stream",
     "text": [
      "Processing patient: LRCP_ESO103\n",
      "Found Referenced PET series\n",
      "Found Referenced PET series\n",
      "Found Referenced PET series\n",
      "Found Referenced PET series\n",
      "Found Radiopharmaceutical Code C-B1031\n",
      "Found Radiopharmaceutical Code C-B1031\n",
      "Found Radiopharmaceutical Code C-B1031\n",
      "Found Radiopharmaceutical Code C-B1031\n",
      "Found Referenced PET series\n",
      "Found Referenced PET series\n",
      "Found Referenced PET series\n",
      "Found Referenced PET series\n",
      "Found Radiopharmaceutical Code C-B1031\n"
     ]
    },
    {
     "name": "stderr",
     "output_type": "stream",
     "text": [
      " 83%|########2 | 136/164 [1:26:23<2:12:13, 283.36s/it]"
     ]
    },
    {
     "name": "stdout",
     "output_type": "stream",
     "text": [
      "Processing patient: LRCP_ESO105\n",
      "Found Referenced PET series\n",
      "Found Referenced PET series\n",
      "Found Referenced PET series\n",
      "Found Referenced PET series\n",
      "Found Radiopharmaceutical Code C-B1031\n",
      "Found Radiopharmaceutical Code C-B1031\n",
      "Found Radiopharmaceutical Code C-B1031\n",
      "Found Radiopharmaceutical Code C-B1031\n",
      "Found Referenced PET series\n",
      "Found Referenced PET series\n",
      "Found Referenced PET series\n",
      "Found Referenced PET series\n",
      "Found Radiopharmaceutical Code C-B1031\n"
     ]
    },
    {
     "name": "stderr",
     "output_type": "stream",
     "text": [
      " 84%|########3 | 137/164 [1:31:35<2:11:23, 291.98s/it]"
     ]
    },
    {
     "name": "stdout",
     "output_type": "stream",
     "text": [
      "Processing patient: LRCP_ESO104\n",
      "Found Referenced PET series\n",
      "Found Referenced PET series\n",
      "Found Referenced PET series\n",
      "Found Referenced PET series\n",
      "Found Radiopharmaceutical Code C-B1031\n",
      "Found Radiopharmaceutical Code C-B1031\n",
      "Found Radiopharmaceutical Code C-B1031\n",
      "Found Radiopharmaceutical Code C-B1031\n",
      "Found Referenced PET series\n",
      "Found Referenced PET series\n",
      "Found Referenced PET series\n",
      "Found Referenced PET series\n",
      "Found Radiopharmaceutical Code C-B1031\n"
     ]
    },
    {
     "name": "stderr",
     "output_type": "stream",
     "text": [
      " 84%|########4 | 138/164 [1:36:24<2:06:05, 290.98s/it]"
     ]
    },
    {
     "name": "stdout",
     "output_type": "stream",
     "text": [
      "Processing patient: LRCP_ESO106\n",
      "Found Referenced PET series\n",
      "Found Referenced PET series\n",
      "Found Referenced PET series\n",
      "Found Referenced PET series\n",
      "Found Radiopharmaceutical Code C-B1031\n",
      "Found Radiopharmaceutical Code C-B1031\n",
      "Found Radiopharmaceutical Code C-B1031\n",
      "Found Radiopharmaceutical Code C-B1031\n",
      "Found Referenced PET series\n",
      "Found Referenced PET series\n",
      "Found Referenced PET series\n",
      "Found Referenced PET series\n",
      "Found Radiopharmaceutical Code C-B1031\n"
     ]
    },
    {
     "name": "stderr",
     "output_type": "stream",
     "text": [
      " 85%|########4 | 139/164 [1:40:57<1:59:02, 285.71s/it]"
     ]
    },
    {
     "name": "stdout",
     "output_type": "stream",
     "text": [
      "Processing patient: LRCP_ESO108\n",
      "Found Referenced PET series\n",
      "Found Referenced PET series\n",
      "Found Referenced PET series\n",
      "Found Referenced PET series\n",
      "Found Radiopharmaceutical Code C-B1031\n",
      "Found Radiopharmaceutical Code C-B1031\n",
      "Found Radiopharmaceutical Code C-B1031\n",
      "Found Radiopharmaceutical Code C-B1031\n",
      "Found Referenced PET series\n",
      "Found Referenced PET series\n",
      "Found Referenced PET series\n",
      "Found Referenced PET series\n",
      "Found Radiopharmaceutical Code C-B1031\n"
     ]
    },
    {
     "name": "stderr",
     "output_type": "stream",
     "text": [
      " 85%|########5 | 140/164 [1:45:34<1:53:14, 283.12s/it]"
     ]
    },
    {
     "name": "stdout",
     "output_type": "stream",
     "text": [
      "Processing patient: LRCP_ESO112\n",
      "Found Referenced PET series\n",
      "Found Referenced PET series\n",
      "Found Referenced PET series\n",
      "Found Referenced PET series\n",
      "Found Radiopharmaceutical Code C-B1031\n",
      "Found Radiopharmaceutical Code C-B1031\n",
      "Found Radiopharmaceutical Code C-B1031\n",
      "Found Radiopharmaceutical Code C-B1031\n",
      "Found Referenced PET series\n",
      "Found Referenced PET series\n",
      "Found Referenced PET series\n",
      "Found Referenced PET series\n",
      "Found Radiopharmaceutical Code C-B1031\n"
     ]
    },
    {
     "name": "stderr",
     "output_type": "stream",
     "text": [
      " 86%|########5 | 141/164 [1:50:07<1:47:18, 279.93s/it]"
     ]
    },
    {
     "name": "stdout",
     "output_type": "stream",
     "text": [
      "Processing patient: LRCP_ESO107\n",
      "Found Referenced PET series\n",
      "Found Referenced PET series\n",
      "Found Referenced PET series\n",
      "Found Referenced PET series\n",
      "Found Radiopharmaceutical Code C-B1031\n",
      "Found Radiopharmaceutical Code C-B1031\n",
      "Found Radiopharmaceutical Code C-B1031\n",
      "Found Radiopharmaceutical Code C-B1031\n",
      "Found Referenced PET series\n",
      "Found Referenced PET series\n",
      "Found Referenced PET series\n",
      "Found Referenced PET series\n",
      "Found Radiopharmaceutical Code C-B1031\n"
     ]
    },
    {
     "name": "stderr",
     "output_type": "stream",
     "text": [
      " 87%|########6 | 142/164 [1:54:38<1:41:41, 277.35s/it]"
     ]
    },
    {
     "name": "stdout",
     "output_type": "stream",
     "text": [
      "Processing patient: LRCP_ESO109\n",
      "Found Referenced PET series\n",
      "Found Referenced PET series\n",
      "Found Referenced PET series\n",
      "Found Referenced PET series\n",
      "Found Radiopharmaceutical Code C-B1031\n",
      "Found Radiopharmaceutical Code C-B1031\n",
      "Found Radiopharmaceutical Code C-B1031\n",
      "Found Radiopharmaceutical Code C-B1031\n",
      "Found Referenced PET series\n",
      "Found Referenced PET series\n",
      "Found Referenced PET series\n",
      "Found Referenced PET series\n",
      "Found Radiopharmaceutical Code C-B1031\n"
     ]
    },
    {
     "name": "stderr",
     "output_type": "stream",
     "text": [
      " 87%|########7 | 143/164 [1:59:12<1:36:38, 276.14s/it]"
     ]
    },
    {
     "name": "stdout",
     "output_type": "stream",
     "text": [
      "Processing patient: LRCP_ESO111\n",
      "Found Referenced PET series\n",
      "Found Referenced PET series\n",
      "Found Referenced PET series\n",
      "Found Referenced PET series\n",
      "Found Radiopharmaceutical Code C-B1031\n",
      "Found Radiopharmaceutical Code C-B1031\n",
      "Found Radiopharmaceutical Code C-B1031\n",
      "Found Radiopharmaceutical Code C-B1031\n",
      "Found Referenced PET series\n",
      "Found Referenced PET series\n",
      "Found Referenced PET series\n",
      "Found Referenced PET series\n",
      "Found Radiopharmaceutical Code C-B1031\n"
     ]
    },
    {
     "name": "stderr",
     "output_type": "stream",
     "text": [
      " 88%|########7 | 144/164 [2:03:45<1:31:47, 275.35s/it]"
     ]
    },
    {
     "name": "stdout",
     "output_type": "stream",
     "text": [
      "Processing patient: LRCP_ESO110\n",
      "Found Referenced PET series\n",
      "Found Referenced PET series\n",
      "Found Referenced PET series\n",
      "Found Referenced PET series\n",
      "Found Radiopharmaceutical Code C-B1031\n",
      "Found Radiopharmaceutical Code C-B1031\n",
      "Found Radiopharmaceutical Code C-B1031\n",
      "Found Radiopharmaceutical Code C-B1031\n",
      "Found Referenced PET series\n",
      "Found Referenced PET series\n",
      "Found Referenced PET series\n",
      "Found Referenced PET series\n",
      "Found Radiopharmaceutical Code C-B1031\n"
     ]
    },
    {
     "name": "stderr",
     "output_type": "stream",
     "text": [
      " 88%|########8 | 145/164 [2:08:16<1:26:44, 273.91s/it]"
     ]
    },
    {
     "name": "stdout",
     "output_type": "stream",
     "text": [
      "Processing patient: LRCP_ESO113\n",
      "Found Referenced PET series\n",
      "Found Referenced PET series\n",
      "Found Referenced PET series\n",
      "Found Referenced PET series\n",
      "Found Radiopharmaceutical Code C-B1031\n",
      "Found Radiopharmaceutical Code C-B1031\n",
      "Found Radiopharmaceutical Code C-B1031\n",
      "Found Radiopharmaceutical Code C-B1031\n",
      "Found Referenced PET series\n",
      "Found Referenced PET series\n",
      "Found Referenced PET series\n",
      "Found Referenced PET series\n",
      "Found Radiopharmaceutical Code C-B1031\n"
     ]
    },
    {
     "name": "stderr",
     "output_type": "stream",
     "text": [
      " 89%|########9 | 146/164 [2:12:43<1:21:34, 271.93s/it]"
     ]
    },
    {
     "name": "stdout",
     "output_type": "stream",
     "text": [
      "Processing patient: LRCP_ESO114\n",
      "Found Referenced PET series\n",
      "Found Referenced PET series\n",
      "Found Referenced PET series\n",
      "Found Referenced PET series\n",
      "Found Radiopharmaceutical Code C-B1031\n",
      "Found Radiopharmaceutical Code C-B1031\n",
      "Found Radiopharmaceutical Code C-B1031\n",
      "Found Radiopharmaceutical Code C-B1031\n",
      "Found Referenced PET series\n",
      "Found Referenced PET series\n",
      "Found Referenced PET series\n",
      "Found Referenced PET series\n",
      "Found Radiopharmaceutical Code C-B1031\n"
     ]
    },
    {
     "name": "stderr",
     "output_type": "stream",
     "text": [
      " 90%|########9 | 147/164 [2:17:14<1:16:59, 271.73s/it]"
     ]
    },
    {
     "name": "stdout",
     "output_type": "stream",
     "text": [
      "Processing patient: LRCP_ESO116\n",
      "Found Referenced PET series\n",
      "Found Referenced PET series\n",
      "Found Referenced PET series\n",
      "Found Referenced PET series\n",
      "Found Radiopharmaceutical Code C-B1031\n",
      "Found Radiopharmaceutical Code C-B1031\n",
      "Found Radiopharmaceutical Code C-B1031\n",
      "Found Radiopharmaceutical Code C-B1031\n",
      "Found Referenced PET series\n",
      "Found Referenced PET series\n",
      "Found Referenced PET series\n",
      "Found Referenced PET series\n",
      "Found Radiopharmaceutical Code C-B1031\n"
     ]
    },
    {
     "name": "stderr",
     "output_type": "stream",
     "text": [
      " 90%|######### | 148/164 [2:22:05<1:13:57, 277.37s/it]"
     ]
    },
    {
     "name": "stdout",
     "output_type": "stream",
     "text": [
      "Processing patient: LRCP_ESO117\n",
      "Found Referenced PET series\n",
      "Found Referenced PET series\n",
      "Found Referenced PET series\n",
      "Found Referenced PET series\n",
      "Found Radiopharmaceutical Code C-B1031\n",
      "Found Radiopharmaceutical Code C-B1031\n",
      "Found Radiopharmaceutical Code C-B1031\n",
      "Found Radiopharmaceutical Code C-B1031\n",
      "Found Referenced PET series\n",
      "Found Referenced PET series\n",
      "Found Referenced PET series\n",
      "Found Referenced PET series\n",
      "Found Radiopharmaceutical Code C-B1031\n"
     ]
    },
    {
     "name": "stderr",
     "output_type": "stream",
     "text": [
      " 91%|######### | 149/164 [2:28:12<1:16:04, 304.31s/it]"
     ]
    },
    {
     "name": "stdout",
     "output_type": "stream",
     "text": [
      "Processing patient: LRCP_ESO115\n",
      "Found Referenced PET series\n",
      "Found Referenced PET series\n",
      "Found Referenced PET series\n",
      "Found Referenced PET series\n",
      "Found Radiopharmaceutical Code C-B1031\n",
      "Found Radiopharmaceutical Code C-B1031\n",
      "Found Radiopharmaceutical Code C-B1031\n",
      "Found Radiopharmaceutical Code C-B1031\n",
      "Found Referenced PET series\n",
      "Found Referenced PET series\n",
      "Found Referenced PET series\n",
      "Found Referenced PET series\n",
      "Found Radiopharmaceutical Code C-B1031\n"
     ]
    },
    {
     "name": "stderr",
     "output_type": "stream",
     "text": [
      " 91%|#########1| 150/164 [2:33:40<1:12:42, 311.61s/it]"
     ]
    },
    {
     "name": "stdout",
     "output_type": "stream",
     "text": [
      "Processing patient: LRCP_ESO118\n",
      "Found Referenced PET series\n",
      "Found Referenced PET series\n",
      "Found Referenced PET series\n",
      "Found Referenced PET series\n",
      "Found Radiopharmaceutical Code C-B1031\n",
      "Found Radiopharmaceutical Code C-B1031\n",
      "Found Radiopharmaceutical Code C-B1031\n",
      "Found Radiopharmaceutical Code C-B1031\n",
      "Found Referenced PET series\n",
      "Found Referenced PET series\n",
      "Found Referenced PET series\n",
      "Found Referenced PET series\n",
      "Found Radiopharmaceutical Code C-B1031\n"
     ]
    },
    {
     "name": "stderr",
     "output_type": "stream",
     "text": [
      " 92%|#########2| 151/164 [2:38:35<1:06:24, 306.52s/it]"
     ]
    },
    {
     "name": "stdout",
     "output_type": "stream",
     "text": [
      "Processing patient: LRCP_ESO119\n",
      "Found Referenced PET series\n",
      "Found Referenced PET series\n",
      "Found Referenced PET series\n",
      "Found Referenced PET series\n",
      "Found Radiopharmaceutical Code C-B1031\n",
      "Found Radiopharmaceutical Code C-B1031\n",
      "Found Radiopharmaceutical Code C-B1031\n",
      "Found Radiopharmaceutical Code C-B1031\n",
      "Found Referenced PET series\n",
      "Found Referenced PET series\n",
      "Found Referenced PET series\n",
      "Found Referenced PET series\n",
      "Found Radiopharmaceutical Code C-B1031\n"
     ]
    },
    {
     "name": "stderr",
     "output_type": "stream",
     "text": [
      " 93%|#########2| 152/164 [2:43:03<59:00, 295.04s/it]  "
     ]
    },
    {
     "name": "stdout",
     "output_type": "stream",
     "text": [
      "Processing patient: LRCP_ESO120\n",
      "Found Referenced PET series\n",
      "Found Referenced PET series\n",
      "Found Referenced PET series\n",
      "Found Referenced PET series\n",
      "Found Radiopharmaceutical Code C-B1031\n",
      "Found Radiopharmaceutical Code C-B1031\n",
      "Found Radiopharmaceutical Code C-B1031\n",
      "Found Radiopharmaceutical Code C-B1031\n",
      "Found Referenced PET series\n",
      "Found Referenced PET series\n",
      "Found Referenced PET series\n",
      "Found Referenced PET series\n",
      "Found Radiopharmaceutical Code C-B1031\n"
     ]
    },
    {
     "name": "stderr",
     "output_type": "stream",
     "text": [
      " 93%|#########3| 153/164 [2:48:45<56:40, 309.12s/it]"
     ]
    },
    {
     "name": "stdout",
     "output_type": "stream",
     "text": [
      "Processing patient: LRCP_ESO121\n",
      "Found Referenced PET series\n",
      "Found Referenced PET series\n",
      "Found Referenced PET series\n",
      "Found Referenced PET series\n",
      "Found Radiopharmaceutical Code C-B1031\n",
      "Found Radiopharmaceutical Code C-B1031\n",
      "Found Radiopharmaceutical Code C-B1031\n",
      "Found Radiopharmaceutical Code C-B1031\n",
      "Found Referenced PET series\n",
      "Found Referenced PET series\n",
      "Found Referenced PET series\n",
      "Found Referenced PET series\n",
      "Found Radiopharmaceutical Code C-B1031\n"
     ]
    },
    {
     "name": "stderr",
     "output_type": "stream",
     "text": [
      " 94%|#########3| 154/164 [2:53:59<51:45, 310.54s/it]"
     ]
    },
    {
     "name": "stdout",
     "output_type": "stream",
     "text": [
      "Processing patient: LRCP_ESO122\n",
      "Found Referenced PET series\n",
      "Found Referenced PET series\n",
      "Found Referenced PET series\n",
      "Found Referenced PET series\n",
      "Found Radiopharmaceutical Code C-B1031\n",
      "Found Radiopharmaceutical Code C-B1031\n",
      "Found Radiopharmaceutical Code C-B1031\n",
      "Found Radiopharmaceutical Code C-B1031\n",
      "Found Referenced PET series\n",
      "Found Referenced PET series\n",
      "Found Referenced PET series\n",
      "Found Referenced PET series\n",
      "Found Radiopharmaceutical Code C-B1031\n"
     ]
    },
    {
     "name": "stderr",
     "output_type": "stream",
     "text": [
      " 95%|#########4| 155/164 [2:59:04<46:19, 308.79s/it]"
     ]
    },
    {
     "name": "stdout",
     "output_type": "stream",
     "text": [
      "Processing patient: LRCP_ESO124\n",
      "Found Referenced PET series\n",
      "Found Referenced PET series\n",
      "Found Referenced PET series\n",
      "Found Referenced PET series\n",
      "Found Radiopharmaceutical Code C-B1031\n",
      "Found Radiopharmaceutical Code C-B1031\n",
      "Found Radiopharmaceutical Code C-B1031\n",
      "Found Radiopharmaceutical Code C-B1031\n",
      "Found Referenced PET series\n",
      "Found Referenced PET series\n",
      "Found Referenced PET series\n",
      "Found Referenced PET series\n",
      "Found Radiopharmaceutical Code C-B1031\n"
     ]
    },
    {
     "name": "stderr",
     "output_type": "stream",
     "text": [
      " 95%|#########5| 156/164 [3:04:14<41:13, 309.22s/it]"
     ]
    },
    {
     "name": "stdout",
     "output_type": "stream",
     "text": [
      "Processing patient: LRCP_ESO123\n",
      "Found Referenced PET series\n",
      "Found Referenced PET series\n",
      "Found Referenced PET series\n",
      "Found Referenced PET series\n",
      "Found Radiopharmaceutical Code C-B1031\n",
      "Found Radiopharmaceutical Code C-B1031\n",
      "Found Radiopharmaceutical Code C-B1031\n",
      "Found Radiopharmaceutical Code C-B1031\n",
      "Found Referenced PET series\n",
      "Found Referenced PET series\n",
      "Found Referenced PET series\n",
      "Found Referenced PET series\n",
      "Found Radiopharmaceutical Code C-B1031\n"
     ]
    },
    {
     "name": "stderr",
     "output_type": "stream",
     "text": [
      " 96%|#########5| 157/164 [3:08:48<34:49, 298.46s/it]"
     ]
    },
    {
     "name": "stdout",
     "output_type": "stream",
     "text": [
      "Processing patient: LRCP_ESO125\n",
      "Found Referenced PET series\n",
      "Found Referenced PET series\n",
      "Found Referenced PET series\n",
      "Found Referenced PET series\n",
      "Found Radiopharmaceutical Code C-B1031\n",
      "Found Radiopharmaceutical Code C-B1031\n",
      "Found Radiopharmaceutical Code C-B1031\n",
      "Found Radiopharmaceutical Code C-B1031\n",
      "Found Referenced PET series\n",
      "Found Referenced PET series\n",
      "Found Referenced PET series\n",
      "Found Referenced PET series\n",
      "Found Radiopharmaceutical Code C-B1031\n"
     ]
    },
    {
     "name": "stderr",
     "output_type": "stream",
     "text": [
      " 96%|#########6| 158/164 [3:13:43<29:46, 297.69s/it]"
     ]
    },
    {
     "name": "stdout",
     "output_type": "stream",
     "text": [
      "Processing patient: LRCP_ESO126\n",
      "Found Referenced PET series\n",
      "Found Referenced PET series\n",
      "Found Referenced PET series\n",
      "Found Referenced PET series\n",
      "Found Radiopharmaceutical Code C-B1031\n",
      "Found Radiopharmaceutical Code C-B1031\n",
      "Found Radiopharmaceutical Code C-B1031\n",
      "Found Radiopharmaceutical Code C-B1031\n",
      "Found Referenced PET series\n",
      "Found Referenced PET series\n",
      "Found Referenced PET series\n",
      "Found Referenced PET series\n",
      "Found Radiopharmaceutical Code C-B1031\n"
     ]
    },
    {
     "name": "stderr",
     "output_type": "stream",
     "text": [
      " 97%|#########6| 159/164 [3:18:17<24:12, 290.60s/it]"
     ]
    },
    {
     "name": "stdout",
     "output_type": "stream",
     "text": [
      "Processing patient: LRCP_ESO127\n",
      "Found Referenced PET series\n",
      "Found Referenced PET series\n",
      "Found Referenced PET series\n",
      "Found Referenced PET series\n",
      "Found Radiopharmaceutical Code C-B1031\n",
      "Found Radiopharmaceutical Code C-B1031\n",
      "Found Radiopharmaceutical Code C-B1031\n",
      "Found Radiopharmaceutical Code C-B1031\n",
      "Found Referenced PET series\n",
      "Found Referenced PET series\n",
      "Found Referenced PET series\n",
      "Found Referenced PET series\n",
      "Found Radiopharmaceutical Code C-B1031\n"
     ]
    },
    {
     "name": "stderr",
     "output_type": "stream",
     "text": [
      " 98%|#########7| 160/164 [3:22:50<19:01, 285.25s/it]"
     ]
    },
    {
     "name": "stdout",
     "output_type": "stream",
     "text": [
      "Processing patient: LRCP_ESO129\n",
      "Found Referenced PET series\n",
      "Found Referenced PET series\n",
      "Found Referenced PET series\n",
      "Found Referenced PET series\n",
      "Found Radiopharmaceutical Code C-B1031\n",
      "Found Radiopharmaceutical Code C-B1031\n",
      "Found Radiopharmaceutical Code C-B1031\n",
      "Found Radiopharmaceutical Code C-B1031\n",
      "Found Referenced PET series\n",
      "Found Referenced PET series\n",
      "Found Referenced PET series\n",
      "Found Referenced PET series\n",
      "Found Radiopharmaceutical Code C-B1031\n"
     ]
    },
    {
     "name": "stderr",
     "output_type": "stream",
     "text": [
      " 98%|#########8| 161/164 [3:27:07<13:50, 276.80s/it]"
     ]
    },
    {
     "name": "stdout",
     "output_type": "stream",
     "text": [
      "Processing patient: LRCP_ESO128\n",
      "Found Referenced PET series\n",
      "Found Referenced PET series\n",
      "Found Referenced PET series\n",
      "Found Referenced PET series\n",
      "Found Radiopharmaceutical Code C-B1031\n",
      "Found Radiopharmaceutical Code C-B1031\n",
      "Found Radiopharmaceutical Code C-B1031\n",
      "Found Radiopharmaceutical Code C-B1031\n",
      "Found Referenced PET series\n",
      "Found Referenced PET series\n",
      "Found Referenced PET series\n",
      "Found Referenced PET series\n",
      "Found Radiopharmaceutical Code C-B1031\n"
     ]
    },
    {
     "name": "stderr",
     "output_type": "stream",
     "text": [
      " 99%|#########8| 162/164 [3:32:00<09:23, 281.71s/it]"
     ]
    },
    {
     "name": "stdout",
     "output_type": "stream",
     "text": [
      "Processing patient: LRCP_ESO130\n",
      "Found Referenced PET series\n",
      "Found Referenced PET series\n",
      "Found Referenced PET series\n",
      "Found Referenced PET series\n",
      "Found Radiopharmaceutical Code C-B1031\n",
      "Found Radiopharmaceutical Code C-B1031\n",
      "Found Radiopharmaceutical Code C-B1031\n",
      "Found Radiopharmaceutical Code C-B1031\n",
      "Found Referenced PET series\n",
      "Found Referenced PET series\n",
      "Found Referenced PET series\n",
      "Found Referenced PET series\n",
      "Found Radiopharmaceutical Code C-B1031\n"
     ]
    },
    {
     "name": "stderr",
     "output_type": "stream",
     "text": [
      " 99%|#########9| 163/164 [3:36:54<04:45, 285.27s/it]"
     ]
    },
    {
     "name": "stdout",
     "output_type": "stream",
     "text": [
      "Processing patient: LRCP_ESO131\n",
      "Found Referenced PET series\n",
      "Found Referenced PET series\n",
      "Found Referenced PET series\n",
      "Found Referenced PET series\n",
      "Found Radiopharmaceutical Code C-B1031\n",
      "Found Radiopharmaceutical Code C-B1031\n",
      "Found Radiopharmaceutical Code C-B1031\n",
      "Found Radiopharmaceutical Code C-B1031\n",
      "Found Referenced PET series\n",
      "Found Referenced PET series\n",
      "Found Referenced PET series\n",
      "Found Referenced PET series\n",
      "Found Radiopharmaceutical Code C-B1031\n"
     ]
    },
    {
     "name": "stderr",
     "output_type": "stream",
     "text": [
      "100%|##########| 164/164 [3:41:16<00:00, 80.96s/it] \n"
     ]
    },
    {
     "ename": "<class 'ValueError'>",
     "evalue": "All arrays must be of the same length",
     "output_type": "error",
     "traceback": [
      "\u001b[1;31m---------------------------------------------------------------------------\u001b[0m",
      "\u001b[1;31mValueError\u001b[0m                                Traceback (most recent call last)",
      "Cell \u001b[1;32mIn[4], line 89\u001b[0m\n\u001b[0;32m     86\u001b[0m     \u001b[38;5;28;01mdel\u001b[39;00m PET_node_name\n\u001b[0;32m     88\u001b[0m \u001b[38;5;66;03m# Create a DataFrame to store the file paths\u001b[39;00m\n\u001b[1;32m---> 89\u001b[0m df \u001b[38;5;241m=\u001b[39m pd\u001b[38;5;241m.\u001b[39mDataFrame({\n\u001b[0;32m     90\u001b[0m     \u001b[38;5;124m'\u001b[39m\u001b[38;5;124mPatient_ID\u001b[39m\u001b[38;5;124m'\u001b[39m: \u001b[38;5;28mlist\u001b[39m(patient_image_paths_dict\u001b[38;5;241m.\u001b[39mkeys()),\n\u001b[0;32m     91\u001b[0m     \u001b[38;5;124m'\u001b[39m\u001b[38;5;124mCT\u001b[39m\u001b[38;5;124m'\u001b[39m: CT_npy_locations,\n\u001b[0;32m     92\u001b[0m     \u001b[38;5;124m'\u001b[39m\u001b[38;5;124mPET_SUVbw\u001b[39m\u001b[38;5;124m'\u001b[39m: PET_SUVbw_npy_locations,\n\u001b[0;32m     93\u001b[0m     \u001b[38;5;124m'\u001b[39m\u001b[38;5;124mPET_SUVlbm\u001b[39m\u001b[38;5;124m'\u001b[39m: PET_SUVlbm_npy_locations,\n\u001b[0;32m     94\u001b[0m     \u001b[38;5;124m'\u001b[39m\u001b[38;5;124mPET_SUVbsa\u001b[39m\u001b[38;5;124m'\u001b[39m: PET_SUVbsa_npy_locations\n\u001b[0;32m     95\u001b[0m })\n\u001b[0;32m     97\u001b[0m \u001b[38;5;66;03m# Save the DataFrame to a CSV file\u001b[39;00m\n\u001b[0;32m     98\u001b[0m pd\u001b[38;5;241m.\u001b[39msave_csv(df, os\u001b[38;5;241m.\u001b[39mpath\u001b[38;5;241m.\u001b[39mjoin(new_npy_save_path, \u001b[38;5;124m\"\u001b[39m\u001b[38;5;124mnpy_save_paths_2.csv\u001b[39m\u001b[38;5;124m\"\u001b[39m), index\u001b[38;5;241m=\u001b[39m\u001b[38;5;28;01mFalse\u001b[39;00m)\n",
      "File \u001b[1;32m~\\AppData\\Local\\slicer.org\\Slicer 5.4.0\\lib\\Python\\Lib\\site-packages\\pandas\\core\\frame.py:736\u001b[0m, in \u001b[0;36mDataFrame.__init__\u001b[1;34m(self, data, index, columns, dtype, copy)\u001b[0m\n\u001b[0;32m    730\u001b[0m     mgr \u001b[38;5;241m=\u001b[39m \u001b[38;5;28mself\u001b[39m\u001b[38;5;241m.\u001b[39m_init_mgr(\n\u001b[0;32m    731\u001b[0m         data, axes\u001b[38;5;241m=\u001b[39m{\u001b[38;5;124m\"\u001b[39m\u001b[38;5;124mindex\u001b[39m\u001b[38;5;124m\"\u001b[39m: index, \u001b[38;5;124m\"\u001b[39m\u001b[38;5;124mcolumns\u001b[39m\u001b[38;5;124m\"\u001b[39m: columns}, dtype\u001b[38;5;241m=\u001b[39mdtype, copy\u001b[38;5;241m=\u001b[39mcopy\n\u001b[0;32m    732\u001b[0m     )\n\u001b[0;32m    734\u001b[0m \u001b[38;5;28;01melif\u001b[39;00m \u001b[38;5;28misinstance\u001b[39m(data, \u001b[38;5;28mdict\u001b[39m):\n\u001b[0;32m    735\u001b[0m     \u001b[38;5;66;03m# GH#38939 de facto copy defaults to False only in non-dict cases\u001b[39;00m\n\u001b[1;32m--> 736\u001b[0m     mgr \u001b[38;5;241m=\u001b[39m \u001b[43mdict_to_mgr\u001b[49m\u001b[43m(\u001b[49m\u001b[43mdata\u001b[49m\u001b[43m,\u001b[49m\u001b[43m \u001b[49m\u001b[43mindex\u001b[49m\u001b[43m,\u001b[49m\u001b[43m \u001b[49m\u001b[43mcolumns\u001b[49m\u001b[43m,\u001b[49m\u001b[43m \u001b[49m\u001b[43mdtype\u001b[49m\u001b[38;5;241;43m=\u001b[39;49m\u001b[43mdtype\u001b[49m\u001b[43m,\u001b[49m\u001b[43m \u001b[49m\u001b[43mcopy\u001b[49m\u001b[38;5;241;43m=\u001b[39;49m\u001b[43mcopy\u001b[49m\u001b[43m,\u001b[49m\u001b[43m \u001b[49m\u001b[43mtyp\u001b[49m\u001b[38;5;241;43m=\u001b[39;49m\u001b[43mmanager\u001b[49m\u001b[43m)\u001b[49m\n\u001b[0;32m    737\u001b[0m \u001b[38;5;28;01melif\u001b[39;00m \u001b[38;5;28misinstance\u001b[39m(data, ma\u001b[38;5;241m.\u001b[39mMaskedArray):\n\u001b[0;32m    738\u001b[0m     \u001b[38;5;28;01mfrom\u001b[39;00m \u001b[38;5;21;01mnumpy\u001b[39;00m\u001b[38;5;21;01m.\u001b[39;00m\u001b[38;5;21;01mma\u001b[39;00m \u001b[38;5;28;01mimport\u001b[39;00m mrecords\n",
      "File \u001b[1;32m~\\AppData\\Local\\slicer.org\\Slicer 5.4.0\\lib\\Python\\Lib\\site-packages\\pandas\\core\\internals\\construction.py:503\u001b[0m, in \u001b[0;36mdict_to_mgr\u001b[1;34m(data, index, columns, dtype, typ, copy)\u001b[0m\n\u001b[0;32m    499\u001b[0m     \u001b[38;5;28;01melse\u001b[39;00m:\n\u001b[0;32m    500\u001b[0m         \u001b[38;5;66;03m# dtype check to exclude e.g. range objects, scalars\u001b[39;00m\n\u001b[0;32m    501\u001b[0m         arrays \u001b[38;5;241m=\u001b[39m [x\u001b[38;5;241m.\u001b[39mcopy() \u001b[38;5;28;01mif\u001b[39;00m \u001b[38;5;28mhasattr\u001b[39m(x, \u001b[38;5;124m\"\u001b[39m\u001b[38;5;124mdtype\u001b[39m\u001b[38;5;124m\"\u001b[39m) \u001b[38;5;28;01melse\u001b[39;00m x \u001b[38;5;28;01mfor\u001b[39;00m x \u001b[38;5;129;01min\u001b[39;00m arrays]\n\u001b[1;32m--> 503\u001b[0m \u001b[38;5;28;01mreturn\u001b[39;00m \u001b[43marrays_to_mgr\u001b[49m\u001b[43m(\u001b[49m\u001b[43marrays\u001b[49m\u001b[43m,\u001b[49m\u001b[43m \u001b[49m\u001b[43mcolumns\u001b[49m\u001b[43m,\u001b[49m\u001b[43m \u001b[49m\u001b[43mindex\u001b[49m\u001b[43m,\u001b[49m\u001b[43m \u001b[49m\u001b[43mdtype\u001b[49m\u001b[38;5;241;43m=\u001b[39;49m\u001b[43mdtype\u001b[49m\u001b[43m,\u001b[49m\u001b[43m \u001b[49m\u001b[43mtyp\u001b[49m\u001b[38;5;241;43m=\u001b[39;49m\u001b[43mtyp\u001b[49m\u001b[43m,\u001b[49m\u001b[43m \u001b[49m\u001b[43mconsolidate\u001b[49m\u001b[38;5;241;43m=\u001b[39;49m\u001b[43mcopy\u001b[49m\u001b[43m)\u001b[49m\n",
      "File \u001b[1;32m~\\AppData\\Local\\slicer.org\\Slicer 5.4.0\\lib\\Python\\Lib\\site-packages\\pandas\\core\\internals\\construction.py:114\u001b[0m, in \u001b[0;36marrays_to_mgr\u001b[1;34m(arrays, columns, index, dtype, verify_integrity, typ, consolidate)\u001b[0m\n\u001b[0;32m    111\u001b[0m \u001b[38;5;28;01mif\u001b[39;00m verify_integrity:\n\u001b[0;32m    112\u001b[0m     \u001b[38;5;66;03m# figure out the index, if necessary\u001b[39;00m\n\u001b[0;32m    113\u001b[0m     \u001b[38;5;28;01mif\u001b[39;00m index \u001b[38;5;129;01mis\u001b[39;00m \u001b[38;5;28;01mNone\u001b[39;00m:\n\u001b[1;32m--> 114\u001b[0m         index \u001b[38;5;241m=\u001b[39m \u001b[43m_extract_index\u001b[49m\u001b[43m(\u001b[49m\u001b[43marrays\u001b[49m\u001b[43m)\u001b[49m\n\u001b[0;32m    115\u001b[0m     \u001b[38;5;28;01melse\u001b[39;00m:\n\u001b[0;32m    116\u001b[0m         index \u001b[38;5;241m=\u001b[39m ensure_index(index)\n",
      "File \u001b[1;32m~\\AppData\\Local\\slicer.org\\Slicer 5.4.0\\lib\\Python\\Lib\\site-packages\\pandas\\core\\internals\\construction.py:677\u001b[0m, in \u001b[0;36m_extract_index\u001b[1;34m(data)\u001b[0m\n\u001b[0;32m    675\u001b[0m lengths \u001b[38;5;241m=\u001b[39m \u001b[38;5;28mlist\u001b[39m(\u001b[38;5;28mset\u001b[39m(raw_lengths))\n\u001b[0;32m    676\u001b[0m \u001b[38;5;28;01mif\u001b[39;00m \u001b[38;5;28mlen\u001b[39m(lengths) \u001b[38;5;241m>\u001b[39m \u001b[38;5;241m1\u001b[39m:\n\u001b[1;32m--> 677\u001b[0m     \u001b[38;5;28;01mraise\u001b[39;00m \u001b[38;5;167;01mValueError\u001b[39;00m(\u001b[38;5;124m\"\u001b[39m\u001b[38;5;124mAll arrays must be of the same length\u001b[39m\u001b[38;5;124m\"\u001b[39m)\n\u001b[0;32m    679\u001b[0m \u001b[38;5;28;01mif\u001b[39;00m have_dicts:\n\u001b[0;32m    680\u001b[0m     \u001b[38;5;28;01mraise\u001b[39;00m \u001b[38;5;167;01mValueError\u001b[39;00m(\n\u001b[0;32m    681\u001b[0m         \u001b[38;5;124m\"\u001b[39m\u001b[38;5;124mMixing dicts with non-Series may lead to ambiguous ordering.\u001b[39m\u001b[38;5;124m\"\u001b[39m\n\u001b[0;32m    682\u001b[0m     )\n",
      "\u001b[1;31mValueError\u001b[0m: All arrays must be of the same length"
     ]
    }
   ],
   "source": [
    "if not os.path.exists(new_npy_save_path):\n",
    "    os.makedirs(new_npy_save_path)\n",
    "\n",
    "CT_npy_locations = []\n",
    "PET_SUVbw_npy_locations = []\n",
    "PET_SUVlbm_npy_locations = []\n",
    "PET_SUVbsa_npy_locations = []\n",
    "\n",
    "count = 0\n",
    "for patient in tqdm(patient_image_paths_dict.keys()):\n",
    "    slicer.mrmlScene.Clear(0)\n",
    "    print(f\"Processing patient: {patient}\")\n",
    "    count += 1\n",
    "    if count <= 116:\n",
    "        continue\n",
    "\n",
    "    # Create a new directory for the patient\n",
    "    patient_folder = os.path.join(new_npy_save_path, patient)\n",
    "    if not os.path.exists(patient_folder):\n",
    "        os.makedirs(patient_folder)\n",
    "    \n",
    "    # Load the clinical data\n",
    "    CT_node_ids = su.load_DICOM(patient_image_paths_dict[patient]['CT'])\n",
    "    PET_node_ids = su.load_DICOM(patient_image_paths_dict[patient]['PET'])\n",
    "\n",
    "    CT_volume = su.ImageVolume(slicer.util.getNode(CT_node_ids[0]))\n",
    "    CT_Numpy = CT_volume.NumPyArray\n",
    "\n",
    "    PET_images_exist = {'bw': False, 'lbm': False, 'bsa': False}\n",
    "    PET_image_numpy = {'bw': None, 'lbm': None, 'bsa': None}\n",
    "\n",
    "    for node_id in PET_node_ids:\n",
    "        PET_node_name = slicer.util.getNode(node_id).GetName()\n",
    "\n",
    "        if '(SUVbw)' in PET_node_name:\n",
    "            PET_volume_bw = su.ImageVolume(slicer.util.getNode(node_id))\n",
    "            PET_images_exist['bw'] = PET_volume_bw\n",
    "        \n",
    "        elif '(SUVlbm)' in PET_node_name:\n",
    "            PET_volume_lbm = su.ImageVolume(slicer.util.getNode(node_id))\n",
    "            PET_images_exist['lbm'] = PET_volume_lbm\n",
    "\n",
    "        elif '(SUVbsa)' in PET_node_name:\n",
    "            PET_volume_bsa = su.ImageVolume(slicer.util.getNode(node_id))\n",
    "            PET_images_exist['bsa'] = PET_volume_bsa\n",
    "\n",
    "        if all(PET_images_exist.values()):\n",
    "            break\n",
    "            \n",
    "    for key, value in PET_images_exist.items():\n",
    "        if not value:\n",
    "            print(f\"PET image with {key} does not exist.\")\n",
    "        else:\n",
    "            temp_resampled = value.resample_scalar_volume_BRAINS(CT_volume.volumeNode, f\"SUV{key}_resampled_BSpline\", interpolatorType='BSpline')\n",
    "            PET_image_numpy[key] = su.ImageVolume(temp_resampled).NumPyArray\n",
    "\n",
    "    \n",
    "    # Save the resampled images\n",
    "    np.save(os.path.join(patient_folder, f\"{patient}_CT.npy\"), CT_Numpy)\n",
    "    np.save(os.path.join(patient_folder, f\"{patient}_PET_SUVbw.npy\"), PET_image_numpy['bw'])\n",
    "    np.save(os.path.join(patient_folder, f\"{patient}_PET_SUVlbm.npy\"), PET_image_numpy['lbm'])\n",
    "    np.save(os.path.join(patient_folder, f\"{patient}_PET_SUVbsa.npy\"), PET_image_numpy['bsa'])\n",
    "\n",
    "    CT_npy_locations.append(os.path.join(patient_folder, f\"{patient}_CT.npy\"))\n",
    "    PET_SUVbw_npy_locations.append(os.path.join(patient_folder, f\"{patient}_PET_SUVbw.npy\"))\n",
    "    PET_SUVlbm_npy_locations.append(os.path.join(patient_folder, f\"{patient}_PET_SUVlbm.npy\"))\n",
    "    PET_SUVbsa_npy_locations.append(os.path.join(patient_folder, f\"{patient}_PET_SUVbsa.npy\"))\n",
    "\n",
    "    del CT_volume\n",
    "    del PET_volume_bw\n",
    "    del PET_volume_lbm\n",
    "    del PET_volume_bsa\n",
    "    del PET_image_numpy['bw']\n",
    "    del PET_image_numpy['lbm']\n",
    "    del PET_image_numpy['bsa']\n",
    "\n",
    "    del PET_images_exist['bw']\n",
    "    del PET_images_exist['lbm']\n",
    "    del PET_images_exist['bsa']\n",
    "\n",
    "    del PET_node_ids\n",
    "    del CT_node_ids\n",
    "    del CT_Numpy\n",
    "    del PET_image_numpy\n",
    "    del PET_images_exist\n",
    "    del PET_node_name\n",
    "\n",
    "# Create a DataFrame to store the file paths\n",
    "df = pd.DataFrame({\n",
    "    'Patient_ID': list(patient_image_paths_dict.keys()),\n",
    "    'CT': CT_npy_locations,\n",
    "    'PET_SUVbw': PET_SUVbw_npy_locations,\n",
    "    'PET_SUVlbm': PET_SUVlbm_npy_locations,\n",
    "    'PET_SUVbsa': PET_SUVbsa_npy_locations\n",
    "})\n",
    "\n",
    "# Save the DataFrame to a CSV file\n",
    "pd.save_csv(df, os.path.join(new_npy_save_path, \"npy_save_paths_2.csv\"), index=False)\n"
   ]
  }
 ],
 "metadata": {
  "kernelspec": {
   "display_name": "Slicer 5.4",
   "language": "python",
   "name": "slicer-5.4"
  },
  "language_info": {
   "file_extension": ".py",
   "mimetype": "text/x-python",
   "name": "python",
   "version": "3.9.10"
  }
 },
 "nbformat": 4,
 "nbformat_minor": 2
}
