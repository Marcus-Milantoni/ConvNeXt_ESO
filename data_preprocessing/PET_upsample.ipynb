{
 "cells": [
  {
   "cell_type": "code",
   "execution_count": 4,
   "metadata": {},
   "outputs": [],
   "source": [
    "import slicerutil as su\n",
    "import slicer\n",
    "import os \n",
    "import numpy as np\n",
    "import pandas as pd\n",
    "from tqdm import tqdm\n",
    "from datetime import datetime\n",
    "from slicerutil import PresetColormaps, PetColormaps"
   ]
  },
  {
   "cell_type": "code",
   "execution_count": 5,
   "metadata": {},
   "outputs": [],
   "source": [
    "data_path = r\"C:\\Users\\milantom\\OneDrive - LHSC & St. Joseph's\\Documents\\Eso_deep_learning\\ESO_DL_DS\"\n",
    "clinical_csv = r\"C:\\Users\\milantom\\OneDrive - LHSC & St. Joseph's\\Documents\\Eso_deep_learning\\csv_files\\Clinical_Data_Eso.csv\"\n",
    "\n",
    "new_npy_save_path = r\"C:\\Users\\milantom\\OneDrive - LHSC & St. Joseph's\\Documents\\Eso_deep_learning\\ESO_DL_DS_resampled\""
   ]
  },
  {
   "cell_type": "code",
   "execution_count": 6,
   "metadata": {},
   "outputs": [],
   "source": [
    "patient_image_paths_dict = {}\n",
    "\n",
    "for year_folder in os.listdir(data_path):\n",
    "    year_path = os.path.join(data_path, year_folder)\n",
    "    for modality_folder in os.listdir(year_path):\n",
    "        modality_path = os.path.join(year_path, modality_folder)\n",
    "\n",
    "        patient_id = f\"LRCP_{modality_folder.split('.')[1].split('_')[0]}\"\n",
    "        if patient_id not in patient_image_paths_dict.keys():\n",
    "            patient_image_paths_dict[patient_id] = {}\n",
    "\n",
    "        if '_CT_' in modality_folder:\n",
    "            patient_image_paths_dict[patient_id]['CT'] = modality_path\n",
    "        elif '_PT_' in modality_folder:\n",
    "            patient_image_paths_dict[patient_id]['PET'] = modality_path \n",
    "        else:\n",
    "            print(f\"Unknown modality: {modality_folder}\")\n",
    "       "
   ]
  },
  {
   "cell_type": "code",
   "execution_count": null,
   "metadata": {},
   "outputs": [
    {
     "name": "stderr",
     "output_type": "stream",
     "text": [
      "  0%|          | 0/164 [00:00<?, ?it/s]"
     ]
    },
    {
     "name": "stdout",
     "output_type": "stream",
     "text": [
      "Processing patient: LRCP_ESO165\n"
     ]
    },
    {
     "name": "stderr",
     "output_type": "stream",
     "text": [
      "  1%|          | 1/164 [00:00<00:17,  9.20it/s]"
     ]
    },
    {
     "name": "stdout",
     "output_type": "stream",
     "text": [
      "Processing patient: LRCP_ESO162\n"
     ]
    },
    {
     "name": "stderr",
     "output_type": "stream",
     "text": [
      "  1%|1         | 2/164 [00:00<00:17,  9.30it/s]"
     ]
    },
    {
     "name": "stdout",
     "output_type": "stream",
     "text": [
      "Processing patient: LRCP_ESO166\n",
      "Processing patient: LRCP_ESO154\n"
     ]
    },
    {
     "name": "stderr",
     "output_type": "stream",
     "text": [
      "  2%|2         | 4/164 [00:00<00:15, 10.11it/s]"
     ]
    },
    {
     "name": "stdout",
     "output_type": "stream",
     "text": [
      "Processing patient: LRCP_ESO163\n",
      "Processing patient: LRCP_ESO155\n"
     ]
    },
    {
     "name": "stderr",
     "output_type": "stream",
     "text": [
      "  4%|3         | 6/164 [00:00<00:14, 10.84it/s]"
     ]
    },
    {
     "name": "stdout",
     "output_type": "stream",
     "text": [
      "Processing patient: LRCP_ESO160\n",
      "Processing patient: LRCP_ESO161\n"
     ]
    },
    {
     "name": "stderr",
     "output_type": "stream",
     "text": [
      "  5%|4         | 8/164 [00:00<00:15, 10.03it/s]"
     ]
    },
    {
     "name": "stdout",
     "output_type": "stream",
     "text": [
      "Processing patient: LRCP_ESO159\n",
      "Processing patient: LRCP_ESO153\n"
     ]
    },
    {
     "name": "stderr",
     "output_type": "stream",
     "text": [
      "  6%|6         | 10/164 [00:00<00:14, 10.74it/s]"
     ]
    },
    {
     "name": "stdout",
     "output_type": "stream",
     "text": [
      "Processing patient: LRCP_ESO156\n",
      "Processing patient: LRCP_ESO157\n"
     ]
    },
    {
     "name": "stderr",
     "output_type": "stream",
     "text": [
      "  7%|7         | 12/164 [00:01<00:15,  9.93it/s]"
     ]
    },
    {
     "name": "stdout",
     "output_type": "stream",
     "text": [
      "Processing patient: LRCP_ESO150\n",
      "Processing patient: LRCP_ESO152\n"
     ]
    },
    {
     "name": "stderr",
     "output_type": "stream",
     "text": [
      "  9%|8         | 14/164 [00:01<00:15,  9.98it/s]"
     ]
    },
    {
     "name": "stdout",
     "output_type": "stream",
     "text": [
      "Processing patient: LRCP_ESO151\n",
      "Processing patient: LRCP_ESO148\n"
     ]
    },
    {
     "name": "stderr",
     "output_type": "stream",
     "text": [
      " 10%|9         | 16/164 [00:01<00:14,  9.91it/s]"
     ]
    },
    {
     "name": "stdout",
     "output_type": "stream",
     "text": [
      "Processing patient: LRCP_ESO149\n",
      "Processing patient: LRCP_ESO147\n"
     ]
    },
    {
     "name": "stderr",
     "output_type": "stream",
     "text": [
      " 11%|#         | 18/164 [00:01<00:14, 10.30it/s]"
     ]
    },
    {
     "name": "stdout",
     "output_type": "stream",
     "text": [
      "Processing patient: LRCP_ESO146\n",
      "Processing patient: LRCP_ESO141\n"
     ]
    },
    {
     "name": "stderr",
     "output_type": "stream",
     "text": [
      " 12%|#2        | 20/164 [00:01<00:13, 10.63it/s]"
     ]
    },
    {
     "name": "stdout",
     "output_type": "stream",
     "text": [
      "Processing patient: LRCP_ESO144\n",
      "Processing patient: LRCP_ESO145\n"
     ]
    },
    {
     "name": "stderr",
     "output_type": "stream",
     "text": [
      " 13%|#3        | 22/164 [00:02<00:13, 10.33it/s]"
     ]
    },
    {
     "name": "stdout",
     "output_type": "stream",
     "text": [
      "Processing patient: LRCP_ESO142\n",
      "Processing patient: LRCP_ESO167\n"
     ]
    },
    {
     "name": "stderr",
     "output_type": "stream",
     "text": [
      " 15%|#4        | 24/164 [00:02<00:13, 10.68it/s]"
     ]
    },
    {
     "name": "stdout",
     "output_type": "stream",
     "text": [
      "Processing patient: LRCP_ESO138\n",
      "Processing patient: LRCP_ESO143\n"
     ]
    },
    {
     "name": "stderr",
     "output_type": "stream",
     "text": [
      " 16%|#5        | 26/164 [00:02<00:12, 10.96it/s]"
     ]
    },
    {
     "name": "stdout",
     "output_type": "stream",
     "text": [
      "Processing patient: LRCP_ESO140\n",
      "Processing patient: LRCP_ESO139\n"
     ]
    },
    {
     "name": "stderr",
     "output_type": "stream",
     "text": [
      " 17%|#7        | 28/164 [00:02<00:12, 10.85it/s]"
     ]
    },
    {
     "name": "stdout",
     "output_type": "stream",
     "text": [
      "Processing patient: LRCP_ESO135\n",
      "Processing patient: LRCP_ESO136\n"
     ]
    },
    {
     "name": "stderr",
     "output_type": "stream",
     "text": [
      " 18%|#8        | 30/164 [00:02<00:12, 10.44it/s]"
     ]
    },
    {
     "name": "stdout",
     "output_type": "stream",
     "text": [
      "Processing patient: LRCP_ESO137\n",
      "Processing patient: LRCP_ESO134\n"
     ]
    },
    {
     "name": "stderr",
     "output_type": "stream",
     "text": [
      " 20%|#9        | 32/164 [00:03<00:12, 10.74it/s]"
     ]
    },
    {
     "name": "stdout",
     "output_type": "stream",
     "text": [
      "Processing patient: LRCP_ESO001\n",
      "Processing patient: LRCP_ESO002\n"
     ]
    },
    {
     "name": "stderr",
     "output_type": "stream",
     "text": [
      " 21%|##        | 34/164 [00:03<00:12, 10.62it/s]"
     ]
    },
    {
     "name": "stdout",
     "output_type": "stream",
     "text": [
      "Processing patient: LRCP_ESO007\n",
      "Processing patient: LRCP_ESO133\n"
     ]
    },
    {
     "name": "stderr",
     "output_type": "stream",
     "text": [
      " 22%|##1       | 36/164 [00:03<00:12, 10.55it/s]"
     ]
    },
    {
     "name": "stdout",
     "output_type": "stream",
     "text": [
      "Processing patient: LRCP_ESO005\n",
      "Processing patient: LRCP_ESO003\n"
     ]
    },
    {
     "name": "stderr",
     "output_type": "stream",
     "text": [
      " 23%|##3       | 38/164 [00:03<00:12, 10.31it/s]"
     ]
    },
    {
     "name": "stdout",
     "output_type": "stream",
     "text": [
      "Processing patient: LRCP_ESO004\n",
      "Processing patient: LRCP_ESO006\n"
     ]
    },
    {
     "name": "stderr",
     "output_type": "stream",
     "text": [
      " 24%|##4       | 40/164 [00:03<00:11, 10.48it/s]"
     ]
    },
    {
     "name": "stdout",
     "output_type": "stream",
     "text": [
      "Processing patient: LRCP_ESO008\n",
      "Processing patient: LRCP_ESO009\n"
     ]
    },
    {
     "name": "stderr",
     "output_type": "stream",
     "text": [
      " 26%|##5       | 42/164 [00:04<00:11, 10.50it/s]"
     ]
    },
    {
     "name": "stdout",
     "output_type": "stream",
     "text": [
      "Processing patient: LRCP_ESO011\n",
      "Processing patient: LRCP_ESO010\n"
     ]
    },
    {
     "name": "stderr",
     "output_type": "stream",
     "text": [
      " 27%|##6       | 44/164 [00:04<00:11, 10.23it/s]"
     ]
    },
    {
     "name": "stdout",
     "output_type": "stream",
     "text": [
      "Processing patient: LRCP_ESO015\n",
      "Processing patient: LRCP_ESO017\n"
     ]
    },
    {
     "name": "stderr",
     "output_type": "stream",
     "text": [
      " 28%|##8       | 46/164 [00:04<00:11, 10.48it/s]"
     ]
    },
    {
     "name": "stdout",
     "output_type": "stream",
     "text": [
      "Processing patient: LRCP_ESO012\n",
      "Processing patient: LRCP_ESO013\n"
     ]
    },
    {
     "name": "stderr",
     "output_type": "stream",
     "text": [
      " 29%|##9       | 48/164 [00:04<00:11, 10.39it/s]"
     ]
    },
    {
     "name": "stdout",
     "output_type": "stream",
     "text": [
      "Processing patient: LRCP_ESO022\n",
      "Processing patient: LRCP_ESO014\n"
     ]
    },
    {
     "name": "stderr",
     "output_type": "stream",
     "text": [
      " 30%|###       | 50/164 [00:04<00:10, 10.66it/s]"
     ]
    },
    {
     "name": "stdout",
     "output_type": "stream",
     "text": [
      "Processing patient: LRCP_ESO016\n",
      "Processing patient: LRCP_ESO018\n"
     ]
    },
    {
     "name": "stderr",
     "output_type": "stream",
     "text": [
      " 32%|###1      | 52/164 [00:04<00:10, 10.30it/s]"
     ]
    },
    {
     "name": "stdout",
     "output_type": "stream",
     "text": [
      "Processing patient: LRCP_ESO019\n",
      "Processing patient: LRCP_ESO020\n"
     ]
    },
    {
     "name": "stderr",
     "output_type": "stream",
     "text": [
      " 33%|###2      | 54/164 [00:05<00:10, 10.28it/s]"
     ]
    },
    {
     "name": "stdout",
     "output_type": "stream",
     "text": [
      "Processing patient: LRCP_ESO023\n",
      "Processing patient: LRCP_ESO021\n"
     ]
    },
    {
     "name": "stderr",
     "output_type": "stream",
     "text": [
      " 34%|###4      | 56/164 [00:05<00:10, 10.23it/s]"
     ]
    },
    {
     "name": "stdout",
     "output_type": "stream",
     "text": [
      "Processing patient: LRCP_ESO024\n",
      "Processing patient: LRCP_ESO025\n"
     ]
    },
    {
     "name": "stderr",
     "output_type": "stream",
     "text": [
      " 35%|###5      | 58/164 [00:05<00:10, 10.25it/s]"
     ]
    },
    {
     "name": "stdout",
     "output_type": "stream",
     "text": [
      "Processing patient: LRCP_ESO026\n",
      "Processing patient: LRCP_ESO027\n"
     ]
    },
    {
     "name": "stderr",
     "output_type": "stream",
     "text": [
      " 37%|###6      | 60/164 [00:05<00:10,  9.97it/s]"
     ]
    },
    {
     "name": "stdout",
     "output_type": "stream",
     "text": [
      "Processing patient: LRCP_ESO028\n"
     ]
    },
    {
     "name": "stderr",
     "output_type": "stream",
     "text": [
      " 37%|###7      | 61/164 [00:05<00:10,  9.91it/s]"
     ]
    },
    {
     "name": "stdout",
     "output_type": "stream",
     "text": [
      "Processing patient: LRCP_ESO029\n",
      "Processing patient: LRCP_ESO030\n"
     ]
    },
    {
     "name": "stderr",
     "output_type": "stream",
     "text": [
      " 38%|###8      | 63/164 [00:06<00:10,  9.98it/s]"
     ]
    },
    {
     "name": "stdout",
     "output_type": "stream",
     "text": [
      "Processing patient: LRCP_ESO031\n"
     ]
    },
    {
     "name": "stderr",
     "output_type": "stream",
     "text": [
      " 39%|###9      | 64/164 [00:06<00:10,  9.93it/s]"
     ]
    },
    {
     "name": "stdout",
     "output_type": "stream",
     "text": [
      "Processing patient: LRCP_ESO032\n",
      "Processing patient: LRCP_ESO033\n"
     ]
    },
    {
     "name": "stderr",
     "output_type": "stream",
     "text": [
      " 40%|####      | 66/164 [00:06<00:10,  9.34it/s]"
     ]
    },
    {
     "name": "stdout",
     "output_type": "stream",
     "text": [
      "Processing patient: LRCP_ESO034\n"
     ]
    },
    {
     "name": "stderr",
     "output_type": "stream",
     "text": [
      " 41%|####      | 67/164 [00:06<00:10,  9.43it/s]"
     ]
    },
    {
     "name": "stdout",
     "output_type": "stream",
     "text": [
      "Processing patient: LRCP_ESO035\n"
     ]
    },
    {
     "name": "stderr",
     "output_type": "stream",
     "text": [
      " 41%|####1     | 68/164 [00:06<00:10,  9.54it/s]"
     ]
    },
    {
     "name": "stdout",
     "output_type": "stream",
     "text": [
      "Processing patient: LRCP_ESO132\n"
     ]
    },
    {
     "name": "stderr",
     "output_type": "stream",
     "text": [
      " 42%|####2     | 69/164 [00:06<00:10,  9.39it/s]"
     ]
    },
    {
     "name": "stdout",
     "output_type": "stream",
     "text": [
      "Processing patient: LRCP_ESO036\n",
      "Processing patient: LRCP_ESO037\n"
     ]
    },
    {
     "name": "stderr",
     "output_type": "stream",
     "text": [
      " 43%|####3     | 71/164 [00:06<00:09,  9.85it/s]"
     ]
    },
    {
     "name": "stdout",
     "output_type": "stream",
     "text": [
      "Processing patient: LRCP_ESO042\n",
      "Processing patient: LRCP_ESO039\n"
     ]
    },
    {
     "name": "stderr",
     "output_type": "stream",
     "text": [
      " 45%|####4     | 73/164 [00:07<00:09,  9.40it/s]"
     ]
    },
    {
     "name": "stdout",
     "output_type": "stream",
     "text": [
      "Processing patient: LRCP_ESO040\n",
      "Processing patient: LRCP_ESO041\n"
     ]
    },
    {
     "name": "stderr",
     "output_type": "stream",
     "text": [
      " 46%|####5     | 75/164 [00:07<00:09,  9.80it/s]"
     ]
    },
    {
     "name": "stdout",
     "output_type": "stream",
     "text": [
      "Processing patient: LRCP_ESO043\n",
      "Processing patient: LRCP_ESO044\n"
     ]
    },
    {
     "name": "stderr",
     "output_type": "stream",
     "text": [
      " 47%|####6     | 77/164 [00:07<00:08, 10.04it/s]"
     ]
    },
    {
     "name": "stdout",
     "output_type": "stream",
     "text": [
      "Processing patient: LRCP_ESO045\n",
      "Processing patient: LRCP_ESO046\n"
     ]
    },
    {
     "name": "stderr",
     "output_type": "stream",
     "text": [
      " 48%|####8     | 79/164 [00:07<00:08,  9.94it/s]"
     ]
    },
    {
     "name": "stdout",
     "output_type": "stream",
     "text": [
      "Processing patient: LRCP_ESO047\n"
     ]
    },
    {
     "name": "stderr",
     "output_type": "stream",
     "text": [
      " 49%|####8     | 80/164 [00:07<00:08,  9.62it/s]"
     ]
    },
    {
     "name": "stdout",
     "output_type": "stream",
     "text": [
      "Processing patient: LRCP_ESO049\n",
      "Processing patient: LRCP_ESO050\n"
     ]
    },
    {
     "name": "stderr",
     "output_type": "stream",
     "text": [
      " 50%|#####     | 82/164 [00:08<00:08,  9.99it/s]"
     ]
    },
    {
     "name": "stdout",
     "output_type": "stream",
     "text": [
      "Processing patient: LRCP_ESO048\n",
      "Processing patient: LRCP_ESO051\n"
     ]
    },
    {
     "name": "stderr",
     "output_type": "stream",
     "text": [
      " 51%|#####1    | 84/164 [00:08<00:07, 10.05it/s]"
     ]
    },
    {
     "name": "stdout",
     "output_type": "stream",
     "text": [
      "Processing patient: LRCP_ESO052\n"
     ]
    },
    {
     "name": "stderr",
     "output_type": "stream",
     "text": [
      " 52%|#####1    | 85/164 [00:08<00:07,  9.90it/s]"
     ]
    },
    {
     "name": "stdout",
     "output_type": "stream",
     "text": [
      "Processing patient: LRCP_ESO053\n"
     ]
    },
    {
     "name": "stderr",
     "output_type": "stream",
     "text": [
      " 52%|#####2    | 86/164 [00:08<00:08,  9.15it/s]"
     ]
    },
    {
     "name": "stdout",
     "output_type": "stream",
     "text": [
      "Processing patient: LRCP_ESO054\n",
      "Processing patient: LRCP_ESO057\n"
     ]
    },
    {
     "name": "stderr",
     "output_type": "stream",
     "text": [
      " 54%|#####3    | 88/164 [00:08<00:07,  9.72it/s]"
     ]
    },
    {
     "name": "stdout",
     "output_type": "stream",
     "text": [
      "Processing patient: LRCP_ESO058\n",
      "Processing patient: LRCP_ESO061\n"
     ]
    },
    {
     "name": "stderr",
     "output_type": "stream",
     "text": [
      " 55%|#####4    | 90/164 [00:08<00:07,  9.79it/s]"
     ]
    },
    {
     "name": "stdout",
     "output_type": "stream",
     "text": [
      "Processing patient: LRCP_ESO055\n"
     ]
    },
    {
     "name": "stderr",
     "output_type": "stream",
     "text": [
      " 55%|#####5    | 91/164 [00:08<00:07,  9.76it/s]"
     ]
    },
    {
     "name": "stdout",
     "output_type": "stream",
     "text": [
      "Processing patient: LRCP_ESO056\n"
     ]
    },
    {
     "name": "stderr",
     "output_type": "stream",
     "text": [
      " 56%|#####6    | 92/164 [00:09<00:07,  9.78it/s]"
     ]
    },
    {
     "name": "stdout",
     "output_type": "stream",
     "text": [
      "Processing patient: LRCP_ESO059\n"
     ]
    },
    {
     "name": "stderr",
     "output_type": "stream",
     "text": [
      " 57%|#####6    | 93/164 [00:09<00:07,  8.97it/s]"
     ]
    },
    {
     "name": "stdout",
     "output_type": "stream",
     "text": [
      "Processing patient: LRCP_ESO060\n",
      "Processing patient: LRCP_ESO063\n"
     ]
    },
    {
     "name": "stderr",
     "output_type": "stream",
     "text": [
      " 58%|#####7    | 95/164 [00:09<00:07,  9.50it/s]"
     ]
    },
    {
     "name": "stdout",
     "output_type": "stream",
     "text": [
      "Processing patient: LRCP_ESO062\n"
     ]
    },
    {
     "name": "stderr",
     "output_type": "stream",
     "text": [
      " 59%|#####8    | 96/164 [00:09<00:07,  9.57it/s]"
     ]
    },
    {
     "name": "stdout",
     "output_type": "stream",
     "text": [
      "Processing patient: LRCP_ESO065\n"
     ]
    },
    {
     "name": "stderr",
     "output_type": "stream",
     "text": [
      " 59%|#####9    | 97/164 [00:09<00:07,  9.57it/s]"
     ]
    },
    {
     "name": "stdout",
     "output_type": "stream",
     "text": [
      "Processing patient: LRCP_ESO069\n"
     ]
    },
    {
     "name": "stderr",
     "output_type": "stream",
     "text": [
      " 60%|#####9    | 98/164 [00:09<00:07,  9.11it/s]"
     ]
    },
    {
     "name": "stdout",
     "output_type": "stream",
     "text": [
      "Processing patient: LRCP_ESO064\n"
     ]
    },
    {
     "name": "stderr",
     "output_type": "stream",
     "text": [
      " 60%|######    | 99/164 [00:09<00:07,  8.26it/s]"
     ]
    },
    {
     "name": "stdout",
     "output_type": "stream",
     "text": [
      "Processing patient: LRCP_ESO068\n"
     ]
    },
    {
     "name": "stderr",
     "output_type": "stream",
     "text": [
      " 61%|######    | 100/164 [00:10<00:07,  8.54it/s]"
     ]
    },
    {
     "name": "stdout",
     "output_type": "stream",
     "text": [
      "Processing patient: LRCP_ESO067\n"
     ]
    },
    {
     "name": "stderr",
     "output_type": "stream",
     "text": [
      " 62%|######1   | 101/164 [00:10<00:07,  8.83it/s]"
     ]
    },
    {
     "name": "stdout",
     "output_type": "stream",
     "text": [
      "Processing patient: LRCP_ESO066\n"
     ]
    },
    {
     "name": "stderr",
     "output_type": "stream",
     "text": [
      " 62%|######2   | 102/164 [00:10<00:06,  9.00it/s]"
     ]
    },
    {
     "name": "stdout",
     "output_type": "stream",
     "text": [
      "Processing patient: LRCP_ESO071\n",
      "Processing patient: LRCP_ESO073\n"
     ]
    },
    {
     "name": "stderr",
     "output_type": "stream",
     "text": [
      " 63%|######3   | 104/164 [00:10<00:06,  9.44it/s]"
     ]
    },
    {
     "name": "stdout",
     "output_type": "stream",
     "text": [
      "Processing patient: LRCP_ESO070\n"
     ]
    },
    {
     "name": "stderr",
     "output_type": "stream",
     "text": [
      " 64%|######4   | 105/164 [00:10<00:06,  8.63it/s]"
     ]
    },
    {
     "name": "stdout",
     "output_type": "stream",
     "text": [
      "Processing patient: LRCP_ESO072\n"
     ]
    },
    {
     "name": "stderr",
     "output_type": "stream",
     "text": [
      " 65%|######4   | 106/164 [00:10<00:06,  8.85it/s]"
     ]
    },
    {
     "name": "stdout",
     "output_type": "stream",
     "text": [
      "Processing patient: LRCP_ESO074\n"
     ]
    },
    {
     "name": "stderr",
     "output_type": "stream",
     "text": [
      " 65%|######5   | 107/164 [00:10<00:06,  8.92it/s]"
     ]
    },
    {
     "name": "stdout",
     "output_type": "stream",
     "text": [
      "Processing patient: LRCP_ESO075\n"
     ]
    },
    {
     "name": "stderr",
     "output_type": "stream",
     "text": [
      " 66%|######5   | 108/164 [00:10<00:06,  9.11it/s]"
     ]
    },
    {
     "name": "stdout",
     "output_type": "stream",
     "text": [
      "Processing patient: LRCP_ESO079\n"
     ]
    },
    {
     "name": "stderr",
     "output_type": "stream",
     "text": [
      " 66%|######6   | 109/164 [00:10<00:06,  9.16it/s]"
     ]
    },
    {
     "name": "stdout",
     "output_type": "stream",
     "text": [
      "Processing patient: LRCP_ESO076\n"
     ]
    },
    {
     "name": "stderr",
     "output_type": "stream",
     "text": [
      " 67%|######7   | 110/164 [00:11<00:05,  9.37it/s]"
     ]
    },
    {
     "name": "stdout",
     "output_type": "stream",
     "text": [
      "Processing patient: LRCP_ESO081\n"
     ]
    },
    {
     "name": "stderr",
     "output_type": "stream",
     "text": [
      " 68%|######7   | 111/164 [00:11<00:05,  9.45it/s]"
     ]
    },
    {
     "name": "stdout",
     "output_type": "stream",
     "text": [
      "Processing patient: LRCP_ESO077\n"
     ]
    },
    {
     "name": "stderr",
     "output_type": "stream",
     "text": [
      " 68%|######8   | 112/164 [00:11<00:05,  9.12it/s]"
     ]
    },
    {
     "name": "stdout",
     "output_type": "stream",
     "text": [
      "Processing patient: LRCP_ESO080\n"
     ]
    },
    {
     "name": "stderr",
     "output_type": "stream",
     "text": [
      " 69%|######8   | 113/164 [00:11<00:05,  9.27it/s]"
     ]
    },
    {
     "name": "stdout",
     "output_type": "stream",
     "text": [
      "Processing patient: LRCP_ESO078\n"
     ]
    },
    {
     "name": "stderr",
     "output_type": "stream",
     "text": [
      " 70%|######9   | 114/164 [00:11<00:05,  9.22it/s]"
     ]
    },
    {
     "name": "stdout",
     "output_type": "stream",
     "text": [
      "Processing patient: LRCP_ESO082\n"
     ]
    },
    {
     "name": "stderr",
     "output_type": "stream",
     "text": [
      " 70%|#######   | 115/164 [00:11<00:05,  9.34it/s]"
     ]
    },
    {
     "name": "stdout",
     "output_type": "stream",
     "text": [
      "Processing patient: LRCP_ESO083\n"
     ]
    },
    {
     "name": "stderr",
     "output_type": "stream",
     "text": [
      " 71%|#######   | 116/164 [00:11<00:05,  9.33it/s]"
     ]
    },
    {
     "name": "stdout",
     "output_type": "stream",
     "text": [
      "Processing patient: LRCP_ESO084\n",
      "Found Referenced PET series\n",
      "Found Referenced PET series\n",
      "Found Referenced PET series\n",
      "Found Referenced PET series\n",
      "Found Radiopharmaceutical Code C-B1031\n",
      "Found Radiopharmaceutical Code C-B1031\n",
      "Found Radiopharmaceutical Code C-B1031\n",
      "Found Radiopharmaceutical Code C-B1031\n",
      "Found Referenced PET series\n",
      "Found Referenced PET series\n",
      "Found Referenced PET series\n",
      "Found Referenced PET series\n",
      "Found Radiopharmaceutical Code C-B1031\n"
     ]
    },
    {
     "name": "stderr",
     "output_type": "stream",
     "text": [
      " 71%|#######1  | 117/164 [02:25<31:21, 40.03s/it]"
     ]
    },
    {
     "name": "stdout",
     "output_type": "stream",
     "text": [
      "Processing patient: LRCP_ESO087\n",
      "Found Referenced PET series\n",
      "Found Referenced PET series\n",
      "Found Referenced PET series\n",
      "Found Referenced PET series\n"
     ]
    }
   ],
   "source": [
    "if not os.path.exists(new_npy_save_path):\n",
    "    os.makedirs(new_npy_save_path)\n",
    "\n",
    "CT_npy_locations = []\n",
    "PET_SUVbw_npy_locations = []\n",
    "PET_SUVlbm_npy_locations = []\n",
    "PET_SUVbsa_npy_locations = []\n",
    "\n",
    "count = 0\n",
    "for patient in tqdm(patient_image_paths_dict.keys()):\n",
    "    slicer.mrmlScene.Clear(0)\n",
    "    print(f\"Processing patient: {patient}\")\n",
    "    count += 1\n",
    "    if count <= 116:\n",
    "        continue\n",
    "\n",
    "    # Create a new directory for the patient\n",
    "    patient_folder = os.path.join(new_npy_save_path, patient)\n",
    "    if not os.path.exists(patient_folder):\n",
    "        os.makedirs(patient_folder)\n",
    "    \n",
    "    # Load the clinical data\n",
    "    CT_node_ids = su.load_DICOM(patient_image_paths_dict[patient]['CT'])\n",
    "    PET_node_ids = su.load_DICOM(patient_image_paths_dict[patient]['PET'])\n",
    "\n",
    "    CT_volume = su.ImageVolume(slicer.util.getNode(CT_node_ids[0]))\n",
    "    CT_Numpy = CT_volume.NumPyArray\n",
    "\n",
    "    PET_images_exist = {'bw': False, 'lbm': False, 'bsa': False}\n",
    "    PET_image_numpy = {'bw': None, 'lbm': None, 'bsa': None}\n",
    "\n",
    "    for node_id in PET_node_ids:\n",
    "        PET_node_name = slicer.util.getNode(node_id).GetName()\n",
    "\n",
    "        if '(SUVbw)' in PET_node_name:\n",
    "            PET_volume_bw = su.ImageVolume(slicer.util.getNode(node_id))\n",
    "            PET_images_exist['bw'] = PET_volume_bw\n",
    "        \n",
    "        elif '(SUVlbm)' in PET_node_name:\n",
    "            PET_volume_lbm = su.ImageVolume(slicer.util.getNode(node_id))\n",
    "            PET_images_exist['lbm'] = PET_volume_lbm\n",
    "\n",
    "        elif '(SUVbsa)' in PET_node_name:\n",
    "            PET_volume_bsa = su.ImageVolume(slicer.util.getNode(node_id))\n",
    "            PET_images_exist['bsa'] = PET_volume_bsa\n",
    "\n",
    "        if all(PET_images_exist.values()):\n",
    "            break\n",
    "            \n",
    "    for key, value in PET_images_exist.items():\n",
    "        if not value:\n",
    "            print(f\"PET image with {key} does not exist.\")\n",
    "        else:\n",
    "            temp_resampled = value.resample_scalar_volume_BRAINS(CT_volume.volumeNode, f\"SUV{key}_resampled_BSpline\", interpolatorType='BSpline')\n",
    "            PET_image_numpy[key] = su.ImageVolume(temp_resampled).NumPyArray\n",
    "\n",
    "    \n",
    "    # Save the resampled images\n",
    "    np.save(os.path.join(patient_folder, f\"{patient}_CT.npy\"), CT_Numpy)\n",
    "    np.save(os.path.join(patient_folder, f\"{patient}_PET_SUVbw.npy\"), PET_image_numpy['bw'])\n",
    "    np.save(os.path.join(patient_folder, f\"{patient}_PET_SUVlbm.npy\"), PET_image_numpy['lbm'])\n",
    "    np.save(os.path.join(patient_folder, f\"{patient}_PET_SUVbsa.npy\"), PET_image_numpy['bsa'])\n",
    "\n",
    "    CT_npy_locations.append(os.path.join(patient_folder, f\"{patient}_CT.npy\"))\n",
    "    PET_SUVbw_npy_locations.append(os.path.join(patient_folder, f\"{patient}_PET_SUVbw.npy\"))\n",
    "    PET_SUVlbm_npy_locations.append(os.path.join(patient_folder, f\"{patient}_PET_SUVlbm.npy\"))\n",
    "    PET_SUVbsa_npy_locations.append(os.path.join(patient_folder, f\"{patient}_PET_SUVbsa.npy\"))\n",
    "\n",
    "    del CT_volume\n",
    "    del PET_volume_bw\n",
    "    del PET_volume_lbm\n",
    "    del PET_volume_bsa\n",
    "    del PET_image_numpy['bw']\n",
    "    del PET_image_numpy['lbm']\n",
    "    del PET_image_numpy['bsa']\n",
    "\n",
    "    del PET_images_exist['bw']\n",
    "    del PET_images_exist['lbm']\n",
    "    del PET_images_exist['bsa']\n",
    "\n",
    "    del PET_node_ids\n",
    "    del CT_node_ids\n",
    "    del CT_Numpy\n",
    "    del PET_image_numpy\n",
    "    del PET_images_exist\n",
    "    del PET_node_name\n",
    "\n",
    "# Create a DataFrame to store the file paths\n",
    "df = pd.DataFrame({\n",
    "    'Patient_ID': list(patient_image_paths_dict.keys()),\n",
    "    'CT': CT_npy_locations,\n",
    "    'PET_SUVbw': PET_SUVbw_npy_locations,\n",
    "    'PET_SUVlbm': PET_SUVlbm_npy_locations,\n",
    "    'PET_SUVbsa': PET_SUVbsa_npy_locations\n",
    "})\n",
    "\n",
    "# Save the DataFrame to a CSV file\n",
    "pd.save_csv(df, os.path.join(new_npy_save_path, \"npy_save_paths_2.csv\"), index=False)\n"
   ]
  }
 ],
 "metadata": {
  "kernelspec": {
   "display_name": "Slicer 5.4",
   "language": "python",
   "name": "slicer-5.4"
  },
  "language_info": {
   "file_extension": ".py",
   "mimetype": "text/x-python",
   "name": "python",
   "version": "3.9.10"
  }
 },
 "nbformat": 4,
 "nbformat_minor": 2
}
